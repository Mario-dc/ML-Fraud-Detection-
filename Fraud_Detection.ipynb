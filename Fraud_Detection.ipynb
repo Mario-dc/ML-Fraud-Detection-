{
  "nbformat": 4,
  "nbformat_minor": 0,
  "metadata": {
    "colab": {
      "name": "Fraud Detection.ipynb",
      "provenance": []
    },
    "kernelspec": {
      "name": "python3",
      "display_name": "Python 3"
    }
  },
  "cells": [
    {
      "cell_type": "code",
      "metadata": {
        "id": "nIKj1nyjKelQ",
        "colab_type": "code",
        "outputId": "cabbeb0f-71f0-4d14-a9df-bc99fb700de4",
        "colab": {
          "base_uri": "https://localhost:8080/",
          "height": 34
        }
      },
      "source": [
        "from google.colab import drive\n",
        "drive.mount('/content/drive')"
      ],
      "execution_count": 0,
      "outputs": [
        {
          "output_type": "stream",
          "text": [
            "Drive already mounted at /content/drive; to attempt to forcibly remount, call drive.mount(\"/content/drive\", force_remount=True).\n"
          ],
          "name": "stdout"
        }
      ]
    },
    {
      "cell_type": "code",
      "metadata": {
        "id": "Ilwb7VXtK3bs",
        "colab_type": "code",
        "colab": {
          "base_uri": "https://localhost:8080/",
          "height": 105
        },
        "outputId": "21cba42a-4ac0-44ab-c6f8-d2600f081f26"
      },
      "source": [
        "import pandas as pd\n",
        "import numpy as np\n",
        "import time\n",
        "import matplotlib.pyplot as plt\n",
        "import pandas as pd\n",
        "from sklearn import metrics\n",
        "from sklearn.metrics import roc_curve\n",
        "from sklearn.model_selection import train_test_split\n",
        "from sklearn.linear_model import LogisticRegression\n",
        "from sklearn.ensemble import RandomForestClassifier\n",
        "from imblearn.over_sampling import SMOTE\n",
        "from sklearn import preprocessing\n",
        "from sklearn.preprocessing import MinMaxScaler\n",
        "from sklearn.metrics import f1_score, roc_auc_score, roc_curve, precision_recall_curve, auc, make_scorer, recall_score, accuracy_score, precision_score, confusion_matrix\n",
        "from sklearn.model_selection import GridSearchCV\n"
      ],
      "execution_count": 1,
      "outputs": [
        {
          "output_type": "stream",
          "text": [
            "/usr/local/lib/python3.6/dist-packages/sklearn/externals/six.py:31: FutureWarning: The module is deprecated in version 0.21 and will be removed in version 0.23 since we've dropped support for Python 2.7. Please rely on the official version of six (https://pypi.org/project/six/).\n",
            "  \"(https://pypi.org/project/six/).\", FutureWarning)\n",
            "/usr/local/lib/python3.6/dist-packages/sklearn/utils/deprecation.py:144: FutureWarning: The sklearn.neighbors.base module is  deprecated in version 0.22 and will be removed in version 0.24. The corresponding classes / functions should instead be imported from sklearn.neighbors. Anything that cannot be imported from sklearn.neighbors is now part of the private API.\n",
            "  warnings.warn(message, FutureWarning)\n"
          ],
          "name": "stderr"
        }
      ]
    },
    {
      "cell_type": "markdown",
      "metadata": {
        "id": "jsKwMITUL7Hc",
        "colab_type": "text"
      },
      "source": [
        "### **Load Data**"
      ]
    },
    {
      "cell_type": "code",
      "metadata": {
        "id": "HEE5ihblLgNQ",
        "colab_type": "code",
        "colab": {
          "base_uri": "https://localhost:8080/",
          "height": 436
        },
        "outputId": "b1b9025e-160b-4e79-8cc5-2ad2dc92482f"
      },
      "source": [
        "!ls '/content/drive/My Drive/Colab Notebooks/Fraud detection'\n",
        "fraud_data = pd.read_csv('/content/drive/My Drive/Colab Notebooks/Fraud detection/imbalancedFraudDF.csv')\n",
        "fraud_data"
      ],
      "execution_count": 2,
      "outputs": [
        {
          "output_type": "stream",
          "text": [
            "'Fraud Detection.ipynb'   imbalancedFraudDF.csv   IpAddress_to_Country.csv\n"
          ],
          "name": "stdout"
        },
        {
          "output_type": "execute_result",
          "data": {
            "text/html": [
              "<div>\n",
              "<style scoped>\n",
              "    .dataframe tbody tr th:only-of-type {\n",
              "        vertical-align: middle;\n",
              "    }\n",
              "\n",
              "    .dataframe tbody tr th {\n",
              "        vertical-align: top;\n",
              "    }\n",
              "\n",
              "    .dataframe thead th {\n",
              "        text-align: right;\n",
              "    }\n",
              "</style>\n",
              "<table border=\"1\" class=\"dataframe\">\n",
              "  <thead>\n",
              "    <tr style=\"text-align: right;\">\n",
              "      <th></th>\n",
              "      <th>user_id</th>\n",
              "      <th>signup_time</th>\n",
              "      <th>purchase_time</th>\n",
              "      <th>purchase_value</th>\n",
              "      <th>device_id</th>\n",
              "      <th>source</th>\n",
              "      <th>browser</th>\n",
              "      <th>sex</th>\n",
              "      <th>age</th>\n",
              "      <th>ip_address</th>\n",
              "      <th>class</th>\n",
              "    </tr>\n",
              "  </thead>\n",
              "  <tbody>\n",
              "    <tr>\n",
              "      <th>0</th>\n",
              "      <td>22058</td>\n",
              "      <td>2015-02-24 22:55:49</td>\n",
              "      <td>2015-04-18 02:47:11</td>\n",
              "      <td>34</td>\n",
              "      <td>QVPSPJUOCKZAR</td>\n",
              "      <td>SEO</td>\n",
              "      <td>Chrome</td>\n",
              "      <td>M</td>\n",
              "      <td>39</td>\n",
              "      <td>7.327584e+08</td>\n",
              "      <td>0</td>\n",
              "    </tr>\n",
              "    <tr>\n",
              "      <th>1</th>\n",
              "      <td>333320</td>\n",
              "      <td>2015-06-07 20:39:50</td>\n",
              "      <td>2015-06-08 01:38:54</td>\n",
              "      <td>16</td>\n",
              "      <td>EOGFQPIZPYXFZ</td>\n",
              "      <td>Ads</td>\n",
              "      <td>Chrome</td>\n",
              "      <td>F</td>\n",
              "      <td>53</td>\n",
              "      <td>3.503114e+08</td>\n",
              "      <td>0</td>\n",
              "    </tr>\n",
              "    <tr>\n",
              "      <th>2</th>\n",
              "      <td>150084</td>\n",
              "      <td>2015-04-28 21:13:25</td>\n",
              "      <td>2015-05-04 13:54:50</td>\n",
              "      <td>44</td>\n",
              "      <td>ATGTXKYKUDUQN</td>\n",
              "      <td>SEO</td>\n",
              "      <td>Safari</td>\n",
              "      <td>M</td>\n",
              "      <td>41</td>\n",
              "      <td>3.840542e+09</td>\n",
              "      <td>0</td>\n",
              "    </tr>\n",
              "    <tr>\n",
              "      <th>3</th>\n",
              "      <td>221365</td>\n",
              "      <td>2015-07-21 07:09:52</td>\n",
              "      <td>2015-09-09 18:40:53</td>\n",
              "      <td>39</td>\n",
              "      <td>NAUITBZFJKHWW</td>\n",
              "      <td>Ads</td>\n",
              "      <td>Safari</td>\n",
              "      <td>M</td>\n",
              "      <td>45</td>\n",
              "      <td>4.155831e+08</td>\n",
              "      <td>0</td>\n",
              "    </tr>\n",
              "    <tr>\n",
              "      <th>4</th>\n",
              "      <td>159135</td>\n",
              "      <td>2015-05-21 06:03:03</td>\n",
              "      <td>2015-07-09 08:05:14</td>\n",
              "      <td>42</td>\n",
              "      <td>ALEYXFXINSXLZ</td>\n",
              "      <td>Ads</td>\n",
              "      <td>Chrome</td>\n",
              "      <td>M</td>\n",
              "      <td>18</td>\n",
              "      <td>2.809315e+09</td>\n",
              "      <td>0</td>\n",
              "    </tr>\n",
              "    <tr>\n",
              "      <th>...</th>\n",
              "      <td>...</td>\n",
              "      <td>...</td>\n",
              "      <td>...</td>\n",
              "      <td>...</td>\n",
              "      <td>...</td>\n",
              "      <td>...</td>\n",
              "      <td>...</td>\n",
              "      <td>...</td>\n",
              "      <td>...</td>\n",
              "      <td>...</td>\n",
              "      <td>...</td>\n",
              "    </tr>\n",
              "    <tr>\n",
              "      <th>138371</th>\n",
              "      <td>185619</td>\n",
              "      <td>2015-01-09 02:25:03</td>\n",
              "      <td>2015-01-09 02:25:04</td>\n",
              "      <td>30</td>\n",
              "      <td>AVOVPRJNLOLWD</td>\n",
              "      <td>SEO</td>\n",
              "      <td>IE</td>\n",
              "      <td>M</td>\n",
              "      <td>35</td>\n",
              "      <td>8.031690e+08</td>\n",
              "      <td>1</td>\n",
              "    </tr>\n",
              "    <tr>\n",
              "      <th>138372</th>\n",
              "      <td>144031</td>\n",
              "      <td>2015-07-07 15:29:10</td>\n",
              "      <td>2015-08-20 01:48:50</td>\n",
              "      <td>67</td>\n",
              "      <td>YLHYGZVPCLHLH</td>\n",
              "      <td>Ads</td>\n",
              "      <td>FireFox</td>\n",
              "      <td>M</td>\n",
              "      <td>23</td>\n",
              "      <td>3.572177e+09</td>\n",
              "      <td>1</td>\n",
              "    </tr>\n",
              "    <tr>\n",
              "      <th>138373</th>\n",
              "      <td>58899</td>\n",
              "      <td>2015-04-24 15:28:22</td>\n",
              "      <td>2015-07-16 01:53:25</td>\n",
              "      <td>54</td>\n",
              "      <td>ORSHWNJVUGJFE</td>\n",
              "      <td>Direct</td>\n",
              "      <td>Safari</td>\n",
              "      <td>M</td>\n",
              "      <td>23</td>\n",
              "      <td>1.374693e+08</td>\n",
              "      <td>1</td>\n",
              "    </tr>\n",
              "    <tr>\n",
              "      <th>138374</th>\n",
              "      <td>120669</td>\n",
              "      <td>2015-04-14 13:53:32</td>\n",
              "      <td>2015-05-18 23:52:34</td>\n",
              "      <td>31</td>\n",
              "      <td>HNQOJFPCMBRQU</td>\n",
              "      <td>SEO</td>\n",
              "      <td>Chrome</td>\n",
              "      <td>M</td>\n",
              "      <td>31</td>\n",
              "      <td>7.087370e+08</td>\n",
              "      <td>1</td>\n",
              "    </tr>\n",
              "    <tr>\n",
              "      <th>138375</th>\n",
              "      <td>157893</td>\n",
              "      <td>2015-02-21 12:47:09</td>\n",
              "      <td>2015-05-18 02:59:16</td>\n",
              "      <td>26</td>\n",
              "      <td>YFUKEEIVTABSH</td>\n",
              "      <td>Ads</td>\n",
              "      <td>Chrome</td>\n",
              "      <td>F</td>\n",
              "      <td>33</td>\n",
              "      <td>1.491168e+09</td>\n",
              "      <td>1</td>\n",
              "    </tr>\n",
              "  </tbody>\n",
              "</table>\n",
              "<p>138376 rows × 11 columns</p>\n",
              "</div>"
            ],
            "text/plain": [
              "        user_id          signup_time  ...    ip_address  class\n",
              "0         22058  2015-02-24 22:55:49  ...  7.327584e+08      0\n",
              "1        333320  2015-06-07 20:39:50  ...  3.503114e+08      0\n",
              "2        150084  2015-04-28 21:13:25  ...  3.840542e+09      0\n",
              "3        221365  2015-07-21 07:09:52  ...  4.155831e+08      0\n",
              "4        159135  2015-05-21 06:03:03  ...  2.809315e+09      0\n",
              "...         ...                  ...  ...           ...    ...\n",
              "138371   185619  2015-01-09 02:25:03  ...  8.031690e+08      1\n",
              "138372   144031  2015-07-07 15:29:10  ...  3.572177e+09      1\n",
              "138373    58899  2015-04-24 15:28:22  ...  1.374693e+08      1\n",
              "138374   120669  2015-04-14 13:53:32  ...  7.087370e+08      1\n",
              "138375   157893  2015-02-21 12:47:09  ...  1.491168e+09      1\n",
              "\n",
              "[138376 rows x 11 columns]"
            ]
          },
          "metadata": {
            "tags": []
          },
          "execution_count": 2
        }
      ]
    },
    {
      "cell_type": "code",
      "metadata": {
        "id": "F_kpNvW0L_j5",
        "colab_type": "code",
        "colab": {
          "base_uri": "https://localhost:8080/",
          "height": 419
        },
        "outputId": "3e392802-1fa9-46ca-88b2-15b43393abc7"
      },
      "source": [
        "ipToCountry = pd.read_csv('/content/drive/My Drive/Colab Notebooks/Fraud detection/IpAddress_to_Country.csv')\n",
        "ipToCountry"
      ],
      "execution_count": 3,
      "outputs": [
        {
          "output_type": "execute_result",
          "data": {
            "text/html": [
              "<div>\n",
              "<style scoped>\n",
              "    .dataframe tbody tr th:only-of-type {\n",
              "        vertical-align: middle;\n",
              "    }\n",
              "\n",
              "    .dataframe tbody tr th {\n",
              "        vertical-align: top;\n",
              "    }\n",
              "\n",
              "    .dataframe thead th {\n",
              "        text-align: right;\n",
              "    }\n",
              "</style>\n",
              "<table border=\"1\" class=\"dataframe\">\n",
              "  <thead>\n",
              "    <tr style=\"text-align: right;\">\n",
              "      <th></th>\n",
              "      <th>lower_bound_ip_address</th>\n",
              "      <th>upper_bound_ip_address</th>\n",
              "      <th>country</th>\n",
              "    </tr>\n",
              "  </thead>\n",
              "  <tbody>\n",
              "    <tr>\n",
              "      <th>0</th>\n",
              "      <td>1.677722e+07</td>\n",
              "      <td>16777471</td>\n",
              "      <td>Australia</td>\n",
              "    </tr>\n",
              "    <tr>\n",
              "      <th>1</th>\n",
              "      <td>1.677747e+07</td>\n",
              "      <td>16777727</td>\n",
              "      <td>China</td>\n",
              "    </tr>\n",
              "    <tr>\n",
              "      <th>2</th>\n",
              "      <td>1.677773e+07</td>\n",
              "      <td>16778239</td>\n",
              "      <td>China</td>\n",
              "    </tr>\n",
              "    <tr>\n",
              "      <th>3</th>\n",
              "      <td>1.677824e+07</td>\n",
              "      <td>16779263</td>\n",
              "      <td>Australia</td>\n",
              "    </tr>\n",
              "    <tr>\n",
              "      <th>4</th>\n",
              "      <td>1.677926e+07</td>\n",
              "      <td>16781311</td>\n",
              "      <td>China</td>\n",
              "    </tr>\n",
              "    <tr>\n",
              "      <th>...</th>\n",
              "      <td>...</td>\n",
              "      <td>...</td>\n",
              "      <td>...</td>\n",
              "    </tr>\n",
              "    <tr>\n",
              "      <th>138841</th>\n",
              "      <td>3.758092e+09</td>\n",
              "      <td>3758093311</td>\n",
              "      <td>Hong Kong</td>\n",
              "    </tr>\n",
              "    <tr>\n",
              "      <th>138842</th>\n",
              "      <td>3.758093e+09</td>\n",
              "      <td>3758094335</td>\n",
              "      <td>India</td>\n",
              "    </tr>\n",
              "    <tr>\n",
              "      <th>138843</th>\n",
              "      <td>3.758095e+09</td>\n",
              "      <td>3758095871</td>\n",
              "      <td>China</td>\n",
              "    </tr>\n",
              "    <tr>\n",
              "      <th>138844</th>\n",
              "      <td>3.758096e+09</td>\n",
              "      <td>3758096127</td>\n",
              "      <td>Singapore</td>\n",
              "    </tr>\n",
              "    <tr>\n",
              "      <th>138845</th>\n",
              "      <td>3.758096e+09</td>\n",
              "      <td>3758096383</td>\n",
              "      <td>Australia</td>\n",
              "    </tr>\n",
              "  </tbody>\n",
              "</table>\n",
              "<p>138846 rows × 3 columns</p>\n",
              "</div>"
            ],
            "text/plain": [
              "        lower_bound_ip_address  upper_bound_ip_address    country\n",
              "0                 1.677722e+07                16777471  Australia\n",
              "1                 1.677747e+07                16777727      China\n",
              "2                 1.677773e+07                16778239      China\n",
              "3                 1.677824e+07                16779263  Australia\n",
              "4                 1.677926e+07                16781311      China\n",
              "...                        ...                     ...        ...\n",
              "138841            3.758092e+09              3758093311  Hong Kong\n",
              "138842            3.758093e+09              3758094335      India\n",
              "138843            3.758095e+09              3758095871      China\n",
              "138844            3.758096e+09              3758096127  Singapore\n",
              "138845            3.758096e+09              3758096383  Australia\n",
              "\n",
              "[138846 rows x 3 columns]"
            ]
          },
          "metadata": {
            "tags": []
          },
          "execution_count": 3
        }
      ]
    },
    {
      "cell_type": "markdown",
      "metadata": {
        "id": "iwHYHKUAMQEQ",
        "colab_type": "text"
      },
      "source": [
        "### **Data Exploration**"
      ]
    },
    {
      "cell_type": "code",
      "metadata": {
        "id": "wO5HCnsnwrr5",
        "colab_type": "code",
        "colab": {
          "base_uri": "https://localhost:8080/",
          "height": 221
        },
        "outputId": "6402f56f-a889-4532-86c1-1396bd443950"
      },
      "source": [
        "fraud_data.dtypes"
      ],
      "execution_count": 4,
      "outputs": [
        {
          "output_type": "execute_result",
          "data": {
            "text/plain": [
              "user_id             int64\n",
              "signup_time        object\n",
              "purchase_time      object\n",
              "purchase_value      int64\n",
              "device_id          object\n",
              "source             object\n",
              "browser            object\n",
              "sex                object\n",
              "age                 int64\n",
              "ip_address        float64\n",
              "class               int64\n",
              "dtype: object"
            ]
          },
          "metadata": {
            "tags": []
          },
          "execution_count": 4
        }
      ]
    },
    {
      "cell_type": "code",
      "metadata": {
        "id": "GQR60jITMTZb",
        "colab_type": "code",
        "colab": {
          "base_uri": "https://localhost:8080/",
          "height": 68
        },
        "outputId": "405457e6-a936-4f28-8d93-d00404cbcc7a"
      },
      "source": [
        "fraud_data['class'].value_counts()"
      ],
      "execution_count": 5,
      "outputs": [
        {
          "output_type": "execute_result",
          "data": {
            "text/plain": [
              "0    136961\n",
              "1      1415\n",
              "Name: class, dtype: int64"
            ]
          },
          "metadata": {
            "tags": []
          },
          "execution_count": 5
        }
      ]
    },
    {
      "cell_type": "code",
      "metadata": {
        "id": "UmaB_VeuMZHi",
        "colab_type": "code",
        "colab": {
          "base_uri": "https://localhost:8080/",
          "height": 221
        },
        "outputId": "050fd05a-b1a9-4fc9-b474-8fd6964d8f44"
      },
      "source": [
        "fraud_data.isna().sum()"
      ],
      "execution_count": 6,
      "outputs": [
        {
          "output_type": "execute_result",
          "data": {
            "text/plain": [
              "user_id           0\n",
              "signup_time       0\n",
              "purchase_time     0\n",
              "purchase_value    0\n",
              "device_id         0\n",
              "source            0\n",
              "browser           0\n",
              "sex               0\n",
              "age               0\n",
              "ip_address        0\n",
              "class             0\n",
              "dtype: int64"
            ]
          },
          "metadata": {
            "tags": []
          },
          "execution_count": 6
        }
      ]
    },
    {
      "cell_type": "markdown",
      "metadata": {
        "id": "6qtQ-96ZhMvL",
        "colab_type": "text"
      },
      "source": [
        "combine contury into fraud_data"
      ]
    },
    {
      "cell_type": "code",
      "metadata": {
        "id": "Jb9AHRL5U2M_",
        "colab_type": "code",
        "colab": {}
      },
      "source": [
        "countries = []\n",
        "for i in range(len(fraud_data)):\n",
        "  ip_address = fraud_data.loc[i,'ip_address']\n",
        "\n",
        "  tmp = ipToCountry[(ipToCountry['lower_bound_ip_address'] <= ip_address) &\n",
        "                    (ipToCountry['upper_bound_ip_address'] >= ip_address)]\n",
        "  if len(tmp) == 1:\n",
        "    countries.append(tmp['country'].values[0])\n",
        "  else:\n",
        "    countries.append('NA')\n",
        "\n",
        "fraud_data['country'] = countries\n",
        "                    \n",
        "                  \n",
        "                    "
      ],
      "execution_count": 0,
      "outputs": []
    },
    {
      "cell_type": "code",
      "metadata": {
        "id": "axr29ZPybSOo",
        "colab_type": "code",
        "colab": {
          "base_uri": "https://localhost:8080/",
          "height": 51
        },
        "outputId": "fc77fbb6-2e5e-4b54-8f80-ab5c68ff43d4"
      },
      "source": [
        "ip_address = fraud_data.loc[8,'ip_address']\n",
        "tmp = ipToCountry[(ipToCountry['lower_bound_ip_address'] <= ip_address)&\n",
        "                  (ipToCountry['upper_bound_ip_address'] >= ip_address)]\n",
        "print(tmp)"
      ],
      "execution_count": 9,
      "outputs": [
        {
          "output_type": "stream",
          "text": [
            "      lower_bound_ip_address  upper_bound_ip_address        country\n",
            "1017             335544320.0               352321535  United States\n"
          ],
          "name": "stdout"
        }
      ]
    },
    {
      "cell_type": "markdown",
      "metadata": {
        "id": "lgtlIPzfhXA_",
        "colab_type": "text"
      },
      "source": [
        "### **Feature Engineering**"
      ]
    },
    {
      "cell_type": "code",
      "metadata": {
        "id": "z3Vkve8xhT5w",
        "colab_type": "code",
        "colab": {
          "base_uri": "https://localhost:8080/",
          "height": 51
        },
        "outputId": "0cbf3cdf-1aba-4be1-be00-9f3a0f162a5d"
      },
      "source": [
        "num_of_user = fraud_data.groupby('user_id').sum()\n",
        "num_of_transaction = pd.notnull(fraud_data['purchase_value']).sum()\n",
        "print('There are total {} unique user in this dataset'.format(num_of_user.shape[0]))\n",
        "print('There are total {} transactions in this dataset'.format(num_of_transaction))"
      ],
      "execution_count": 10,
      "outputs": [
        {
          "output_type": "stream",
          "text": [
            "There are total 138376 unique user in this dataset\n",
            "There are total 138376 transactions in this dataset\n"
          ],
          "name": "stdout"
        }
      ]
    },
    {
      "cell_type": "code",
      "metadata": {
        "id": "FlVINsYfm4mh",
        "colab_type": "code",
        "colab": {}
      },
      "source": [
        "fraud_data['interval_after_signup'] = (pd.to_datetime(fraud_data['purchase_time']) - pd.to_datetime(fraud_data['signup_time'])).dt.total_seconds()\n",
        "\n",
        "fraud_data['signup_day_of_year'] = pd.DatetimeIndex(fraud_data['signup_time']).dayofyear\n",
        "fraud_data['purchase_day_of_year'] = pd.DatetimeIndex(fraud_data['purchase_time']).dayofyear\n",
        "\n",
        "\n",
        "#bed time transaction / signup\n",
        "fraud_data['signup_seconds_of_day'] = pd.DatetimeIndex(fraud_data['signup_time']).second + 60 * pd.DatetimeIndex(\n",
        "    fraud_data['signup_time']).minute + 3600 * pd.DatetimeIndex(fraud_data['signup_time']).hour\n",
        "\n",
        "fraud_data['puchase_seconds_of_day'] =  pd.DatetimeIndex(fraud_data['purchase_time']).second + 60 * pd.DatetimeIndex(\n",
        "    fraud_data['purchase_time']).minute + 3600 * pd.DatetimeIndex(fraud_data['purchase_time']).hour\n",
        "\n",
        "fraud_data = fraud_data.drop(['user_id','signup_time','purchase_time'],axis=1)"
      ],
      "execution_count": 0,
      "outputs": []
    },
    {
      "cell_type": "code",
      "metadata": {
        "id": "aXonAPEdpRKf",
        "colab_type": "code",
        "colab": {
          "base_uri": "https://localhost:8080/",
          "height": 204
        },
        "outputId": "75e720c3-cd94-43a8-dc5c-d8080aaee387"
      },
      "source": [
        "fraud_data.head()"
      ],
      "execution_count": 12,
      "outputs": [
        {
          "output_type": "execute_result",
          "data": {
            "text/html": [
              "<div>\n",
              "<style scoped>\n",
              "    .dataframe tbody tr th:only-of-type {\n",
              "        vertical-align: middle;\n",
              "    }\n",
              "\n",
              "    .dataframe tbody tr th {\n",
              "        vertical-align: top;\n",
              "    }\n",
              "\n",
              "    .dataframe thead th {\n",
              "        text-align: right;\n",
              "    }\n",
              "</style>\n",
              "<table border=\"1\" class=\"dataframe\">\n",
              "  <thead>\n",
              "    <tr style=\"text-align: right;\">\n",
              "      <th></th>\n",
              "      <th>purchase_value</th>\n",
              "      <th>device_id</th>\n",
              "      <th>source</th>\n",
              "      <th>browser</th>\n",
              "      <th>sex</th>\n",
              "      <th>age</th>\n",
              "      <th>ip_address</th>\n",
              "      <th>class</th>\n",
              "      <th>country</th>\n",
              "      <th>interval_after_signup</th>\n",
              "      <th>signup_day_of_year</th>\n",
              "      <th>purchase_day_of_year</th>\n",
              "      <th>signup_seconds_of_day</th>\n",
              "      <th>puchase_seconds_of_day</th>\n",
              "    </tr>\n",
              "  </thead>\n",
              "  <tbody>\n",
              "    <tr>\n",
              "      <th>0</th>\n",
              "      <td>34</td>\n",
              "      <td>QVPSPJUOCKZAR</td>\n",
              "      <td>SEO</td>\n",
              "      <td>Chrome</td>\n",
              "      <td>M</td>\n",
              "      <td>39</td>\n",
              "      <td>7.327584e+08</td>\n",
              "      <td>0</td>\n",
              "      <td>Japan</td>\n",
              "      <td>4506682.0</td>\n",
              "      <td>55</td>\n",
              "      <td>108</td>\n",
              "      <td>82549</td>\n",
              "      <td>10031</td>\n",
              "    </tr>\n",
              "    <tr>\n",
              "      <th>1</th>\n",
              "      <td>16</td>\n",
              "      <td>EOGFQPIZPYXFZ</td>\n",
              "      <td>Ads</td>\n",
              "      <td>Chrome</td>\n",
              "      <td>F</td>\n",
              "      <td>53</td>\n",
              "      <td>3.503114e+08</td>\n",
              "      <td>0</td>\n",
              "      <td>United States</td>\n",
              "      <td>17944.0</td>\n",
              "      <td>158</td>\n",
              "      <td>159</td>\n",
              "      <td>74390</td>\n",
              "      <td>5934</td>\n",
              "    </tr>\n",
              "    <tr>\n",
              "      <th>2</th>\n",
              "      <td>44</td>\n",
              "      <td>ATGTXKYKUDUQN</td>\n",
              "      <td>SEO</td>\n",
              "      <td>Safari</td>\n",
              "      <td>M</td>\n",
              "      <td>41</td>\n",
              "      <td>3.840542e+09</td>\n",
              "      <td>0</td>\n",
              "      <td>NA</td>\n",
              "      <td>492085.0</td>\n",
              "      <td>118</td>\n",
              "      <td>124</td>\n",
              "      <td>76405</td>\n",
              "      <td>50090</td>\n",
              "    </tr>\n",
              "    <tr>\n",
              "      <th>3</th>\n",
              "      <td>39</td>\n",
              "      <td>NAUITBZFJKHWW</td>\n",
              "      <td>Ads</td>\n",
              "      <td>Safari</td>\n",
              "      <td>M</td>\n",
              "      <td>45</td>\n",
              "      <td>4.155831e+08</td>\n",
              "      <td>0</td>\n",
              "      <td>United States</td>\n",
              "      <td>4361461.0</td>\n",
              "      <td>202</td>\n",
              "      <td>252</td>\n",
              "      <td>25792</td>\n",
              "      <td>67253</td>\n",
              "    </tr>\n",
              "    <tr>\n",
              "      <th>4</th>\n",
              "      <td>42</td>\n",
              "      <td>ALEYXFXINSXLZ</td>\n",
              "      <td>Ads</td>\n",
              "      <td>Chrome</td>\n",
              "      <td>M</td>\n",
              "      <td>18</td>\n",
              "      <td>2.809315e+09</td>\n",
              "      <td>0</td>\n",
              "      <td>Canada</td>\n",
              "      <td>4240931.0</td>\n",
              "      <td>141</td>\n",
              "      <td>190</td>\n",
              "      <td>21783</td>\n",
              "      <td>29114</td>\n",
              "    </tr>\n",
              "  </tbody>\n",
              "</table>\n",
              "</div>"
            ],
            "text/plain": [
              "   purchase_value      device_id  ... signup_seconds_of_day puchase_seconds_of_day\n",
              "0              34  QVPSPJUOCKZAR  ...                 82549                  10031\n",
              "1              16  EOGFQPIZPYXFZ  ...                 74390                   5934\n",
              "2              44  ATGTXKYKUDUQN  ...                 76405                  50090\n",
              "3              39  NAUITBZFJKHWW  ...                 25792                  67253\n",
              "4              42  ALEYXFXINSXLZ  ...                 21783                  29114\n",
              "\n",
              "[5 rows x 14 columns]"
            ]
          },
          "metadata": {
            "tags": []
          },
          "execution_count": 12
        }
      ]
    },
    {
      "cell_type": "code",
      "metadata": {
        "id": "RA-TdXM0pddy",
        "colab_type": "code",
        "colab": {
          "base_uri": "https://localhost:8080/",
          "height": 85
        },
        "outputId": "455758d5-d4ad-417b-a589-95672aca9dfa"
      },
      "source": [
        "fraud_data['source'].value_counts()"
      ],
      "execution_count": 13,
      "outputs": [
        {
          "output_type": "execute_result",
          "data": {
            "text/plain": [
              "SEO       55766\n",
              "Ads       54913\n",
              "Direct    27697\n",
              "Name: source, dtype: int64"
            ]
          },
          "metadata": {
            "tags": []
          },
          "execution_count": 13
        }
      ]
    },
    {
      "cell_type": "markdown",
      "metadata": {
        "id": "aophXGSEp5Gm",
        "colab_type": "text"
      },
      "source": [
        "# Q: What now? train/test split? convert categorical features e.g. device_id to numericals? or SMOTE sampling?\n"
      ]
    },
    {
      "cell_type": "code",
      "metadata": {
        "id": "a7KqUAFepnUZ",
        "colab_type": "code",
        "colab": {}
      },
      "source": [
        "# what is SMOTE?\n",
        "# What if convert source column by OHE now?\n",
        "# it sneak peek the levels of this column in test data, \n",
        "# what if there is another new level \"newsPaper\" in test, but not in train?   Info leak, know ahead of time\n"
      ],
      "execution_count": 0,
      "outputs": []
    },
    {
      "cell_type": "code",
      "metadata": {
        "id": "q2-kgSRfp7r6",
        "colab_type": "code",
        "colab": {
          "base_uri": "https://localhost:8080/",
          "height": 51
        },
        "outputId": "7c3f71ac-ae13-4400-86f6-81dac3a5b25f"
      },
      "source": [
        "y = fraud_data['class']\n",
        "X = fraud_data.drop(['class'],axis=1)\n",
        "\n",
        "# train test split\n",
        "X_train,X_test, y_train,y_test = train_test_split(X, y, test_size=0.2, random_state=42)\n",
        "print('X_train.shape:', X_train.shape)\n",
        "print('y_train.shape:', y_train.shape)"
      ],
      "execution_count": 15,
      "outputs": [
        {
          "output_type": "stream",
          "text": [
            "X_train.shape: (110700, 13)\n",
            "y_train.shape: (110700,)\n"
          ],
          "name": "stdout"
        }
      ]
    },
    {
      "cell_type": "code",
      "metadata": {
        "id": "09oLBFWoq4oE",
        "colab_type": "code",
        "colab": {
          "base_uri": "https://localhost:8080/",
          "height": 204
        },
        "outputId": "65ca77f0-c28e-40e9-a2d1-290ec5092fa2"
      },
      "source": [
        "X_train.head()"
      ],
      "execution_count": 16,
      "outputs": [
        {
          "output_type": "execute_result",
          "data": {
            "text/html": [
              "<div>\n",
              "<style scoped>\n",
              "    .dataframe tbody tr th:only-of-type {\n",
              "        vertical-align: middle;\n",
              "    }\n",
              "\n",
              "    .dataframe tbody tr th {\n",
              "        vertical-align: top;\n",
              "    }\n",
              "\n",
              "    .dataframe thead th {\n",
              "        text-align: right;\n",
              "    }\n",
              "</style>\n",
              "<table border=\"1\" class=\"dataframe\">\n",
              "  <thead>\n",
              "    <tr style=\"text-align: right;\">\n",
              "      <th></th>\n",
              "      <th>purchase_value</th>\n",
              "      <th>device_id</th>\n",
              "      <th>source</th>\n",
              "      <th>browser</th>\n",
              "      <th>sex</th>\n",
              "      <th>age</th>\n",
              "      <th>ip_address</th>\n",
              "      <th>country</th>\n",
              "      <th>interval_after_signup</th>\n",
              "      <th>signup_day_of_year</th>\n",
              "      <th>purchase_day_of_year</th>\n",
              "      <th>signup_seconds_of_day</th>\n",
              "      <th>puchase_seconds_of_day</th>\n",
              "    </tr>\n",
              "  </thead>\n",
              "  <tbody>\n",
              "    <tr>\n",
              "      <th>35821</th>\n",
              "      <td>29</td>\n",
              "      <td>WXDZXCSBXXWBD</td>\n",
              "      <td>Direct</td>\n",
              "      <td>FireFox</td>\n",
              "      <td>M</td>\n",
              "      <td>27</td>\n",
              "      <td>3.476950e+09</td>\n",
              "      <td>United States</td>\n",
              "      <td>7923474.0</td>\n",
              "      <td>86</td>\n",
              "      <td>177</td>\n",
              "      <td>7579</td>\n",
              "      <td>68653</td>\n",
              "    </tr>\n",
              "    <tr>\n",
              "      <th>11269</th>\n",
              "      <td>23</td>\n",
              "      <td>LICJGQYUYLEDM</td>\n",
              "      <td>Ads</td>\n",
              "      <td>Chrome</td>\n",
              "      <td>F</td>\n",
              "      <td>32</td>\n",
              "      <td>4.106570e+09</td>\n",
              "      <td>NA</td>\n",
              "      <td>6175612.0</td>\n",
              "      <td>33</td>\n",
              "      <td>104</td>\n",
              "      <td>3772</td>\n",
              "      <td>44984</td>\n",
              "    </tr>\n",
              "    <tr>\n",
              "      <th>54561</th>\n",
              "      <td>29</td>\n",
              "      <td>IOATDABEDLLAQ</td>\n",
              "      <td>SEO</td>\n",
              "      <td>FireFox</td>\n",
              "      <td>M</td>\n",
              "      <td>28</td>\n",
              "      <td>3.320175e+09</td>\n",
              "      <td>South Africa</td>\n",
              "      <td>9638429.0</td>\n",
              "      <td>78</td>\n",
              "      <td>190</td>\n",
              "      <td>48913</td>\n",
              "      <td>10542</td>\n",
              "    </tr>\n",
              "    <tr>\n",
              "      <th>57092</th>\n",
              "      <td>26</td>\n",
              "      <td>OZNTXPRPVXCVR</td>\n",
              "      <td>SEO</td>\n",
              "      <td>Safari</td>\n",
              "      <td>M</td>\n",
              "      <td>42</td>\n",
              "      <td>1.592338e+08</td>\n",
              "      <td>United States</td>\n",
              "      <td>2497028.0</td>\n",
              "      <td>78</td>\n",
              "      <td>107</td>\n",
              "      <td>85593</td>\n",
              "      <td>77021</td>\n",
              "    </tr>\n",
              "    <tr>\n",
              "      <th>33517</th>\n",
              "      <td>55</td>\n",
              "      <td>PZZXUPBIZTGJW</td>\n",
              "      <td>SEO</td>\n",
              "      <td>IE</td>\n",
              "      <td>M</td>\n",
              "      <td>18</td>\n",
              "      <td>1.099134e+09</td>\n",
              "      <td>United States</td>\n",
              "      <td>3211461.0</td>\n",
              "      <td>1</td>\n",
              "      <td>38</td>\n",
              "      <td>27776</td>\n",
              "      <td>42437</td>\n",
              "    </tr>\n",
              "  </tbody>\n",
              "</table>\n",
              "</div>"
            ],
            "text/plain": [
              "       purchase_value  ... puchase_seconds_of_day\n",
              "35821              29  ...                  68653\n",
              "11269              23  ...                  44984\n",
              "54561              29  ...                  10542\n",
              "57092              26  ...                  77021\n",
              "33517              55  ...                  42437\n",
              "\n",
              "[5 rows x 13 columns]"
            ]
          },
          "metadata": {
            "tags": []
          },
          "execution_count": 16
        }
      ]
    },
    {
      "cell_type": "markdown",
      "metadata": {
        "id": "9Qf2lE4QrGiB",
        "colab_type": "text"
      },
      "source": [
        "### **Convert categorital features with high cadinality to numericals**\n",
        "#converting needs to be done after split\n"
      ]
    },
    {
      "cell_type": "code",
      "metadata": {
        "id": "m0wRHfg9wfvi",
        "colab_type": "code",
        "colab": {
          "base_uri": "https://localhost:8080/",
          "height": 0
        },
        "outputId": "eeb325cb-647e-4b7f-d960-2bd4fee4ded2"
      },
      "source": [
        "X_train['country'].value_counts(ascending=True)"
      ],
      "execution_count": 17,
      "outputs": [
        {
          "output_type": "execute_result",
          "data": {
            "text/plain": [
              "Burundi                               1\n",
              "Cape Verde                            1\n",
              "British Indian Ocean Territory        1\n",
              "Madagascar                            1\n",
              "Saint Martin                          1\n",
              "                                  ...  \n",
              "United Kingdom                     3273\n",
              "Japan                              5353\n",
              "China                              8887\n",
              "NA                                16244\n",
              "United States                     42328\n",
              "Name: country, Length: 179, dtype: int64"
            ]
          },
          "metadata": {
            "tags": []
          },
          "execution_count": 17
        }
      ]
    },
    {
      "cell_type": "code",
      "metadata": {
        "id": "n5A9L70wrPJU",
        "colab_type": "code",
        "colab": {}
      },
      "source": [
        "X_train = pd.get_dummies(X_train, columns=['source','browser']) # do not need to drop these two columns since auto dropped by get_dummies\n",
        "X_train['sex'] = (X_train.sex =='M').astype(int)\n",
        "\n",
        "# the more a device is shared, the more suspicous\n",
        "X_train_device_id_mapping = X_train.device_id.value_counts(dropna=False)\n",
        "X_train['n_dev_shared'] = X_train.device_id.map(X_train_device_id_mapping)\n",
        "\n",
        "# the more a ip is shared, the more suspicious \n",
        "X_train_ip_address_mapping = X_train.ip_address.value_counts(dropna=False)\n",
        "X_train['n_ip_shared'] = X_train.ip_address.map(X_train_ip_address_mapping)\n",
        "\n",
        "# the less visit from a country, the more suspicious\n",
        "X_train_country_mapping = X_train.country.value_counts(dropna=False)\n",
        "X_train['n_country_shared'] = X_train.country.map(X_train_country_mapping)#lots of NAs in country column, #without dropna=False will produce nan in this col\n",
        "\n",
        "\n",
        "#把country 用出现次数代替，坏处就是 相同country里面体现不出任何区别\n",
        "\n",
        "X_train = X_train.drop(['device_id','ip_address','country'], axis=1)"
      ],
      "execution_count": 0,
      "outputs": []
    },
    {
      "cell_type": "code",
      "metadata": {
        "id": "-pDbAZVRujPT",
        "colab_type": "code",
        "colab": {}
      },
      "source": [
        "# same thing for test set\n",
        "\n",
        "X_test = pd.get_dummies(X_test, columns=['source', 'browser'])\n",
        "X_test['sex'] = (X_test.sex == 'M').astype(int)\n",
        "\n",
        "# the more a device is shared, the more suspicious\n",
        "X_test['n_dev_shared'] = X_test.device_id.map(X_test.device_id.value_counts(dropna=False))\n",
        "\n",
        "# the more a ip is shared, the more suspicious\n",
        "X_test['n_ip_shared'] = X_test.ip_address.map(X_test.ip_address.value_counts(dropna=False))\n",
        "\n",
        "# the less visit from a country, the more suspicious\n",
        "X_test['n_country_shared'] = X_test.country.map(X_test.country.value_counts(dropna=False))\n",
        "\n",
        "X_test = X_test.drop(['device_id','ip_address','country'], axis=1)\n",
        "\n",
        "\n",
        "\n",
        "# if the levels/values of the column in train and test data are pretty much the same, e.g. country, \n",
        "# then we should apply the above 3 X_train_mappings (generated from X_train) on X_test, \n",
        "# rather than using the new mapping generated from X_test\n",
        "# http://docs.h2o.ai/h2o/latest-stable/h2o-docs/data-munging/target-encoding.html\n",
        "# the more a device is shared, the more suspicious\n",
        "# X_test['n_dev_shared'] = X_test.device_id.map(X_train_device_id_mapping)\n",
        "\n",
        "# the more a ip is shared, the more suspicious\n",
        "# X_test['n_ip_shared'] = X_test.ip_address.map(X_train_ip_address_mapping)\n",
        "\n",
        "# the less visit from a country, the more suspicious\n",
        "# X_test['n_country_shared'] = X_test.country.map(X_train_country_mapping)\n",
        "\n",
        "#but here device_id, ip_address has few overlap between train and test, if we apply the above \n",
        "# 3 X_train_mappings (generated from X_train) on X_test, then most of the X_test will be NaN\n"
      ],
      "execution_count": 0,
      "outputs": []
    },
    {
      "cell_type": "code",
      "metadata": {
        "id": "-CD7cWU_vRTF",
        "colab_type": "code",
        "colab": {
          "base_uri": "https://localhost:8080/",
          "height": 0
        },
        "outputId": "b2de7081-1656-46b8-ec84-b16748b6e43f"
      },
      "source": [
        "X_train.head(20)"
      ],
      "execution_count": 20,
      "outputs": [
        {
          "output_type": "execute_result",
          "data": {
            "text/html": [
              "<div>\n",
              "<style scoped>\n",
              "    .dataframe tbody tr th:only-of-type {\n",
              "        vertical-align: middle;\n",
              "    }\n",
              "\n",
              "    .dataframe tbody tr th {\n",
              "        vertical-align: top;\n",
              "    }\n",
              "\n",
              "    .dataframe thead th {\n",
              "        text-align: right;\n",
              "    }\n",
              "</style>\n",
              "<table border=\"1\" class=\"dataframe\">\n",
              "  <thead>\n",
              "    <tr style=\"text-align: right;\">\n",
              "      <th></th>\n",
              "      <th>purchase_value</th>\n",
              "      <th>sex</th>\n",
              "      <th>age</th>\n",
              "      <th>interval_after_signup</th>\n",
              "      <th>signup_day_of_year</th>\n",
              "      <th>purchase_day_of_year</th>\n",
              "      <th>signup_seconds_of_day</th>\n",
              "      <th>puchase_seconds_of_day</th>\n",
              "      <th>source_Ads</th>\n",
              "      <th>source_Direct</th>\n",
              "      <th>source_SEO</th>\n",
              "      <th>browser_Chrome</th>\n",
              "      <th>browser_FireFox</th>\n",
              "      <th>browser_IE</th>\n",
              "      <th>browser_Opera</th>\n",
              "      <th>browser_Safari</th>\n",
              "      <th>n_dev_shared</th>\n",
              "      <th>n_ip_shared</th>\n",
              "      <th>n_country_shared</th>\n",
              "    </tr>\n",
              "  </thead>\n",
              "  <tbody>\n",
              "    <tr>\n",
              "      <th>35821</th>\n",
              "      <td>29</td>\n",
              "      <td>1</td>\n",
              "      <td>27</td>\n",
              "      <td>7923474.0</td>\n",
              "      <td>86</td>\n",
              "      <td>177</td>\n",
              "      <td>7579</td>\n",
              "      <td>68653</td>\n",
              "      <td>0</td>\n",
              "      <td>1</td>\n",
              "      <td>0</td>\n",
              "      <td>0</td>\n",
              "      <td>1</td>\n",
              "      <td>0</td>\n",
              "      <td>0</td>\n",
              "      <td>0</td>\n",
              "      <td>1</td>\n",
              "      <td>1</td>\n",
              "      <td>42328</td>\n",
              "    </tr>\n",
              "    <tr>\n",
              "      <th>11269</th>\n",
              "      <td>23</td>\n",
              "      <td>0</td>\n",
              "      <td>32</td>\n",
              "      <td>6175612.0</td>\n",
              "      <td>33</td>\n",
              "      <td>104</td>\n",
              "      <td>3772</td>\n",
              "      <td>44984</td>\n",
              "      <td>1</td>\n",
              "      <td>0</td>\n",
              "      <td>0</td>\n",
              "      <td>1</td>\n",
              "      <td>0</td>\n",
              "      <td>0</td>\n",
              "      <td>0</td>\n",
              "      <td>0</td>\n",
              "      <td>1</td>\n",
              "      <td>1</td>\n",
              "      <td>16244</td>\n",
              "    </tr>\n",
              "    <tr>\n",
              "      <th>54561</th>\n",
              "      <td>29</td>\n",
              "      <td>1</td>\n",
              "      <td>28</td>\n",
              "      <td>9638429.0</td>\n",
              "      <td>78</td>\n",
              "      <td>190</td>\n",
              "      <td>48913</td>\n",
              "      <td>10542</td>\n",
              "      <td>0</td>\n",
              "      <td>0</td>\n",
              "      <td>1</td>\n",
              "      <td>0</td>\n",
              "      <td>1</td>\n",
              "      <td>0</td>\n",
              "      <td>0</td>\n",
              "      <td>0</td>\n",
              "      <td>1</td>\n",
              "      <td>1</td>\n",
              "      <td>619</td>\n",
              "    </tr>\n",
              "    <tr>\n",
              "      <th>57092</th>\n",
              "      <td>26</td>\n",
              "      <td>1</td>\n",
              "      <td>42</td>\n",
              "      <td>2497028.0</td>\n",
              "      <td>78</td>\n",
              "      <td>107</td>\n",
              "      <td>85593</td>\n",
              "      <td>77021</td>\n",
              "      <td>0</td>\n",
              "      <td>0</td>\n",
              "      <td>1</td>\n",
              "      <td>0</td>\n",
              "      <td>0</td>\n",
              "      <td>0</td>\n",
              "      <td>0</td>\n",
              "      <td>1</td>\n",
              "      <td>1</td>\n",
              "      <td>1</td>\n",
              "      <td>42328</td>\n",
              "    </tr>\n",
              "    <tr>\n",
              "      <th>33517</th>\n",
              "      <td>55</td>\n",
              "      <td>1</td>\n",
              "      <td>18</td>\n",
              "      <td>3211461.0</td>\n",
              "      <td>1</td>\n",
              "      <td>38</td>\n",
              "      <td>27776</td>\n",
              "      <td>42437</td>\n",
              "      <td>0</td>\n",
              "      <td>0</td>\n",
              "      <td>1</td>\n",
              "      <td>0</td>\n",
              "      <td>0</td>\n",
              "      <td>1</td>\n",
              "      <td>0</td>\n",
              "      <td>0</td>\n",
              "      <td>1</td>\n",
              "      <td>1</td>\n",
              "      <td>42328</td>\n",
              "    </tr>\n",
              "    <tr>\n",
              "      <th>18842</th>\n",
              "      <td>37</td>\n",
              "      <td>1</td>\n",
              "      <td>20</td>\n",
              "      <td>5688502.0</td>\n",
              "      <td>9</td>\n",
              "      <td>75</td>\n",
              "      <td>42950</td>\n",
              "      <td>29052</td>\n",
              "      <td>0</td>\n",
              "      <td>0</td>\n",
              "      <td>1</td>\n",
              "      <td>0</td>\n",
              "      <td>1</td>\n",
              "      <td>0</td>\n",
              "      <td>0</td>\n",
              "      <td>0</td>\n",
              "      <td>1</td>\n",
              "      <td>1</td>\n",
              "      <td>2124</td>\n",
              "    </tr>\n",
              "    <tr>\n",
              "      <th>94173</th>\n",
              "      <td>47</td>\n",
              "      <td>1</td>\n",
              "      <td>45</td>\n",
              "      <td>7642679.0</td>\n",
              "      <td>88</td>\n",
              "      <td>176</td>\n",
              "      <td>39835</td>\n",
              "      <td>79314</td>\n",
              "      <td>0</td>\n",
              "      <td>0</td>\n",
              "      <td>1</td>\n",
              "      <td>0</td>\n",
              "      <td>1</td>\n",
              "      <td>0</td>\n",
              "      <td>0</td>\n",
              "      <td>0</td>\n",
              "      <td>1</td>\n",
              "      <td>1</td>\n",
              "      <td>42328</td>\n",
              "    </tr>\n",
              "    <tr>\n",
              "      <th>29820</th>\n",
              "      <td>11</td>\n",
              "      <td>0</td>\n",
              "      <td>31</td>\n",
              "      <td>4812918.0</td>\n",
              "      <td>159</td>\n",
              "      <td>215</td>\n",
              "      <td>53632</td>\n",
              "      <td>28150</td>\n",
              "      <td>0</td>\n",
              "      <td>1</td>\n",
              "      <td>0</td>\n",
              "      <td>0</td>\n",
              "      <td>0</td>\n",
              "      <td>1</td>\n",
              "      <td>0</td>\n",
              "      <td>0</td>\n",
              "      <td>1</td>\n",
              "      <td>1</td>\n",
              "      <td>1449</td>\n",
              "    </tr>\n",
              "    <tr>\n",
              "      <th>125445</th>\n",
              "      <td>9</td>\n",
              "      <td>1</td>\n",
              "      <td>32</td>\n",
              "      <td>7407697.0</td>\n",
              "      <td>183</td>\n",
              "      <td>269</td>\n",
              "      <td>58973</td>\n",
              "      <td>36270</td>\n",
              "      <td>1</td>\n",
              "      <td>0</td>\n",
              "      <td>0</td>\n",
              "      <td>0</td>\n",
              "      <td>1</td>\n",
              "      <td>0</td>\n",
              "      <td>0</td>\n",
              "      <td>0</td>\n",
              "      <td>1</td>\n",
              "      <td>1</td>\n",
              "      <td>796</td>\n",
              "    </tr>\n",
              "    <tr>\n",
              "      <th>6314</th>\n",
              "      <td>67</td>\n",
              "      <td>1</td>\n",
              "      <td>29</td>\n",
              "      <td>9241810.0</td>\n",
              "      <td>29</td>\n",
              "      <td>136</td>\n",
              "      <td>13683</td>\n",
              "      <td>10693</td>\n",
              "      <td>1</td>\n",
              "      <td>0</td>\n",
              "      <td>0</td>\n",
              "      <td>1</td>\n",
              "      <td>0</td>\n",
              "      <td>0</td>\n",
              "      <td>0</td>\n",
              "      <td>0</td>\n",
              "      <td>1</td>\n",
              "      <td>1</td>\n",
              "      <td>42328</td>\n",
              "    </tr>\n",
              "    <tr>\n",
              "      <th>99454</th>\n",
              "      <td>43</td>\n",
              "      <td>1</td>\n",
              "      <td>22</td>\n",
              "      <td>4306660.0</td>\n",
              "      <td>101</td>\n",
              "      <td>151</td>\n",
              "      <td>18965</td>\n",
              "      <td>5625</td>\n",
              "      <td>0</td>\n",
              "      <td>0</td>\n",
              "      <td>1</td>\n",
              "      <td>0</td>\n",
              "      <td>0</td>\n",
              "      <td>1</td>\n",
              "      <td>0</td>\n",
              "      <td>0</td>\n",
              "      <td>1</td>\n",
              "      <td>1</td>\n",
              "      <td>8887</td>\n",
              "    </tr>\n",
              "    <tr>\n",
              "      <th>30423</th>\n",
              "      <td>37</td>\n",
              "      <td>1</td>\n",
              "      <td>32</td>\n",
              "      <td>9146069.0</td>\n",
              "      <td>120</td>\n",
              "      <td>226</td>\n",
              "      <td>16077</td>\n",
              "      <td>3746</td>\n",
              "      <td>0</td>\n",
              "      <td>0</td>\n",
              "      <td>1</td>\n",
              "      <td>0</td>\n",
              "      <td>1</td>\n",
              "      <td>0</td>\n",
              "      <td>0</td>\n",
              "      <td>0</td>\n",
              "      <td>2</td>\n",
              "      <td>1</td>\n",
              "      <td>1449</td>\n",
              "    </tr>\n",
              "    <tr>\n",
              "      <th>63686</th>\n",
              "      <td>67</td>\n",
              "      <td>1</td>\n",
              "      <td>29</td>\n",
              "      <td>1421935.0</td>\n",
              "      <td>176</td>\n",
              "      <td>193</td>\n",
              "      <td>86363</td>\n",
              "      <td>39498</td>\n",
              "      <td>1</td>\n",
              "      <td>0</td>\n",
              "      <td>0</td>\n",
              "      <td>1</td>\n",
              "      <td>0</td>\n",
              "      <td>0</td>\n",
              "      <td>0</td>\n",
              "      <td>0</td>\n",
              "      <td>1</td>\n",
              "      <td>1</td>\n",
              "      <td>16244</td>\n",
              "    </tr>\n",
              "    <tr>\n",
              "      <th>136774</th>\n",
              "      <td>16</td>\n",
              "      <td>0</td>\n",
              "      <td>41</td>\n",
              "      <td>6334431.0</td>\n",
              "      <td>222</td>\n",
              "      <td>295</td>\n",
              "      <td>12771</td>\n",
              "      <td>40002</td>\n",
              "      <td>0</td>\n",
              "      <td>1</td>\n",
              "      <td>0</td>\n",
              "      <td>1</td>\n",
              "      <td>0</td>\n",
              "      <td>0</td>\n",
              "      <td>0</td>\n",
              "      <td>0</td>\n",
              "      <td>1</td>\n",
              "      <td>1</td>\n",
              "      <td>2738</td>\n",
              "    </tr>\n",
              "    <tr>\n",
              "      <th>135127</th>\n",
              "      <td>37</td>\n",
              "      <td>1</td>\n",
              "      <td>38</td>\n",
              "      <td>6787689.0</td>\n",
              "      <td>220</td>\n",
              "      <td>299</td>\n",
              "      <td>44438</td>\n",
              "      <td>6527</td>\n",
              "      <td>1</td>\n",
              "      <td>0</td>\n",
              "      <td>0</td>\n",
              "      <td>0</td>\n",
              "      <td>0</td>\n",
              "      <td>0</td>\n",
              "      <td>1</td>\n",
              "      <td>0</td>\n",
              "      <td>1</td>\n",
              "      <td>1</td>\n",
              "      <td>42328</td>\n",
              "    </tr>\n",
              "    <tr>\n",
              "      <th>27602</th>\n",
              "      <td>39</td>\n",
              "      <td>0</td>\n",
              "      <td>31</td>\n",
              "      <td>4273663.0</td>\n",
              "      <td>198</td>\n",
              "      <td>248</td>\n",
              "      <td>54919</td>\n",
              "      <td>8582</td>\n",
              "      <td>1</td>\n",
              "      <td>0</td>\n",
              "      <td>0</td>\n",
              "      <td>1</td>\n",
              "      <td>0</td>\n",
              "      <td>0</td>\n",
              "      <td>0</td>\n",
              "      <td>0</td>\n",
              "      <td>1</td>\n",
              "      <td>1</td>\n",
              "      <td>42328</td>\n",
              "    </tr>\n",
              "    <tr>\n",
              "      <th>82595</th>\n",
              "      <td>11</td>\n",
              "      <td>1</td>\n",
              "      <td>42</td>\n",
              "      <td>6514746.0</td>\n",
              "      <td>180</td>\n",
              "      <td>256</td>\n",
              "      <td>60659</td>\n",
              "      <td>9005</td>\n",
              "      <td>0</td>\n",
              "      <td>1</td>\n",
              "      <td>0</td>\n",
              "      <td>0</td>\n",
              "      <td>0</td>\n",
              "      <td>1</td>\n",
              "      <td>0</td>\n",
              "      <td>0</td>\n",
              "      <td>1</td>\n",
              "      <td>1</td>\n",
              "      <td>938</td>\n",
              "    </tr>\n",
              "    <tr>\n",
              "      <th>63685</th>\n",
              "      <td>14</td>\n",
              "      <td>1</td>\n",
              "      <td>52</td>\n",
              "      <td>2826803.0</td>\n",
              "      <td>132</td>\n",
              "      <td>164</td>\n",
              "      <td>21248</td>\n",
              "      <td>83251</td>\n",
              "      <td>0</td>\n",
              "      <td>0</td>\n",
              "      <td>1</td>\n",
              "      <td>1</td>\n",
              "      <td>0</td>\n",
              "      <td>0</td>\n",
              "      <td>0</td>\n",
              "      <td>0</td>\n",
              "      <td>1</td>\n",
              "      <td>1</td>\n",
              "      <td>16244</td>\n",
              "    </tr>\n",
              "    <tr>\n",
              "      <th>24333</th>\n",
              "      <td>40</td>\n",
              "      <td>0</td>\n",
              "      <td>37</td>\n",
              "      <td>1421016.0</td>\n",
              "      <td>117</td>\n",
              "      <td>133</td>\n",
              "      <td>39023</td>\n",
              "      <td>77639</td>\n",
              "      <td>0</td>\n",
              "      <td>1</td>\n",
              "      <td>0</td>\n",
              "      <td>0</td>\n",
              "      <td>0</td>\n",
              "      <td>0</td>\n",
              "      <td>0</td>\n",
              "      <td>1</td>\n",
              "      <td>1</td>\n",
              "      <td>1</td>\n",
              "      <td>42328</td>\n",
              "    </tr>\n",
              "    <tr>\n",
              "      <th>86056</th>\n",
              "      <td>63</td>\n",
              "      <td>1</td>\n",
              "      <td>38</td>\n",
              "      <td>1304779.0</td>\n",
              "      <td>29</td>\n",
              "      <td>44</td>\n",
              "      <td>59132</td>\n",
              "      <td>67911</td>\n",
              "      <td>0</td>\n",
              "      <td>1</td>\n",
              "      <td>0</td>\n",
              "      <td>1</td>\n",
              "      <td>0</td>\n",
              "      <td>0</td>\n",
              "      <td>0</td>\n",
              "      <td>0</td>\n",
              "      <td>1</td>\n",
              "      <td>1</td>\n",
              "      <td>55</td>\n",
              "    </tr>\n",
              "  </tbody>\n",
              "</table>\n",
              "</div>"
            ],
            "text/plain": [
              "        purchase_value  sex  age  ...  n_dev_shared  n_ip_shared  n_country_shared\n",
              "35821               29    1   27  ...             1            1             42328\n",
              "11269               23    0   32  ...             1            1             16244\n",
              "54561               29    1   28  ...             1            1               619\n",
              "57092               26    1   42  ...             1            1             42328\n",
              "33517               55    1   18  ...             1            1             42328\n",
              "18842               37    1   20  ...             1            1              2124\n",
              "94173               47    1   45  ...             1            1             42328\n",
              "29820               11    0   31  ...             1            1              1449\n",
              "125445               9    1   32  ...             1            1               796\n",
              "6314                67    1   29  ...             1            1             42328\n",
              "99454               43    1   22  ...             1            1              8887\n",
              "30423               37    1   32  ...             2            1              1449\n",
              "63686               67    1   29  ...             1            1             16244\n",
              "136774              16    0   41  ...             1            1              2738\n",
              "135127              37    1   38  ...             1            1             42328\n",
              "27602               39    0   31  ...             1            1             42328\n",
              "82595               11    1   42  ...             1            1               938\n",
              "63685               14    1   52  ...             1            1             16244\n",
              "24333               40    0   37  ...             1            1             42328\n",
              "86056               63    1   38  ...             1            1                55\n",
              "\n",
              "[20 rows x 19 columns]"
            ]
          },
          "metadata": {
            "tags": []
          },
          "execution_count": 20
        }
      ]
    },
    {
      "cell_type": "markdown",
      "metadata": {
        "id": "lX6ZVjEhzPLG",
        "colab_type": "text"
      },
      "source": [
        "# Q: What is the difference between normalization and standardization?\n"
      ]
    },
    {
      "cell_type": "code",
      "metadata": {
        "id": "jpzd2E0OxlyG",
        "colab_type": "code",
        "colab": {}
      },
      "source": [
        "# # normalize (min-max) to [0,1], standardize(StandardScaler) to normal, mu=0,var = 1 can < 0, so we do normalize here\n",
        "\n",
        "# needs to be brought to the same scale for models like LR with regularization(that are not tree based)\n",
        "\n",
        "#Compute the train minimum and maximum to be used for later scaling:\n",
        "\n",
        "\n",
        "scaler = preprocessing.MinMaxScaler().fit(X_train[['n_dev_shared','n_ip_shared','n_country_shared']])\n",
        "\n",
        "X_train[['n_dev_shared','n_ip_shared','n_country_shared']] = scaler.transform(X_train[['n_dev_shared','n_ip_shared','n_country_shared']])\n",
        "X_test[['n_dev_shared','n_ip_shared','n_country_shared']] = scaler.transform(X_test[['n_dev_shared','n_ip_shared','n_country_shared']])\n"
      ],
      "execution_count": 0,
      "outputs": []
    },
    {
      "cell_type": "code",
      "metadata": {
        "id": "XPWZH22cz31F",
        "colab_type": "code",
        "colab": {
          "base_uri": "https://localhost:8080/",
          "height": 119
        },
        "outputId": "2fe4927a-b9e6-4632-d23f-ed717f1c3336"
      },
      "source": [
        "X_train.n_dev_shared.value_counts(dropna=False)"
      ],
      "execution_count": 22,
      "outputs": [
        {
          "output_type": "execute_result",
          "data": {
            "text/plain": [
              "0.00    105418\n",
              "0.25      4796\n",
              "0.50       339\n",
              "0.75       112\n",
              "1.00        35\n",
              "Name: n_dev_shared, dtype: int64"
            ]
          },
          "metadata": {
            "tags": []
          },
          "execution_count": 22
        }
      ]
    },
    {
      "cell_type": "code",
      "metadata": {
        "id": "ij63GvFGz9EB",
        "colab_type": "code",
        "colab": {
          "base_uri": "https://localhost:8080/",
          "height": 102
        },
        "outputId": "92f7143a-1715-45ca-9bf2-39a0f86cbd3c"
      },
      "source": [
        "X_test.n_dev_shared.value_counts(dropna=False)"
      ],
      "execution_count": 23,
      "outputs": [
        {
          "output_type": "execute_result",
          "data": {
            "text/plain": [
              "0.00    27361\n",
              "0.25      308\n",
              "0.75        4\n",
              "0.50        3\n",
              "Name: n_dev_shared, dtype: int64"
            ]
          },
          "metadata": {
            "tags": []
          },
          "execution_count": 23
        }
      ]
    },
    {
      "cell_type": "markdown",
      "metadata": {
        "id": "nnC0VIQg0L5L",
        "colab_type": "text"
      },
      "source": [
        "# Simple LogisticRegression model"
      ]
    },
    {
      "cell_type": "code",
      "metadata": {
        "id": "KEHFk1PL0E96",
        "colab_type": "code",
        "colab": {}
      },
      "source": [
        "lr = LogisticRegression()\n",
        "\n",
        "lr.fit(X_train,y_train)\n",
        "\n",
        "y_pred = lr.predict(X_test)"
      ],
      "execution_count": 0,
      "outputs": []
    },
    {
      "cell_type": "code",
      "metadata": {
        "id": "ToLHdFKW3ZAm",
        "colab_type": "code",
        "colab": {
          "base_uri": "https://localhost:8080/",
          "height": 111
        },
        "outputId": "e0f0c2aa-5b61-4494-94ba-f8078515e2ba"
      },
      "source": [
        "cm = metrics.confusion_matrix(y_test,y_pred)\n",
        "cmDF = pd.DataFrame(cm, columns=['pred_0','pred_1'],index=['true_0','true_1'])\n",
        "cmDF"
      ],
      "execution_count": 25,
      "outputs": [
        {
          "output_type": "execute_result",
          "data": {
            "text/html": [
              "<div>\n",
              "<style scoped>\n",
              "    .dataframe tbody tr th:only-of-type {\n",
              "        vertical-align: middle;\n",
              "    }\n",
              "\n",
              "    .dataframe tbody tr th {\n",
              "        vertical-align: top;\n",
              "    }\n",
              "\n",
              "    .dataframe thead th {\n",
              "        text-align: right;\n",
              "    }\n",
              "</style>\n",
              "<table border=\"1\" class=\"dataframe\">\n",
              "  <thead>\n",
              "    <tr style=\"text-align: right;\">\n",
              "      <th></th>\n",
              "      <th>pred_0</th>\n",
              "      <th>pred_1</th>\n",
              "    </tr>\n",
              "  </thead>\n",
              "  <tbody>\n",
              "    <tr>\n",
              "      <th>true_0</th>\n",
              "      <td>27387</td>\n",
              "      <td>0</td>\n",
              "    </tr>\n",
              "    <tr>\n",
              "      <th>true_1</th>\n",
              "      <td>289</td>\n",
              "      <td>0</td>\n",
              "    </tr>\n",
              "  </tbody>\n",
              "</table>\n",
              "</div>"
            ],
            "text/plain": [
              "        pred_0  pred_1\n",
              "true_0   27387       0\n",
              "true_1     289       0"
            ]
          },
          "metadata": {
            "tags": []
          },
          "execution_count": 25
        }
      ]
    },
    {
      "cell_type": "markdown",
      "metadata": {
        "id": "0l6rKYSo3yxI",
        "colab_type": "text"
      },
      "source": [
        "# Simple RF model"
      ]
    },
    {
      "cell_type": "code",
      "metadata": {
        "id": "oNzGGHIz3w8G",
        "colab_type": "code",
        "colab": {
          "base_uri": "https://localhost:8080/",
          "height": 68
        },
        "outputId": "47441874-26f7-45d2-f7bf-f352f0198e3a"
      },
      "source": [
        "rf = RandomForestClassifier(random_state=0)\n",
        "\n",
        "rf.fit(X_train,y_train)\n",
        "\n",
        "# make prediction 0/1 in test set\n",
        "predicted = rf.predict(X_test)\n",
        "# generate probability\n",
        "probs = rf.predict_proba(X_test)\n",
        "\n",
        "# generate evaluation metrics\n",
        "print(\"%s: %r\" % (\"accuracy_score is: \", accuracy_score(y_test, predicted)))\n",
        "print(\"%s: %r\" % (\"roc_auc_score is: \", roc_auc_score(y_test, probs[:, 1])))\n",
        "print(\"%s: %r\" % (\"f1_score is: \", f1_score(y_test, predicted)))#string to int"
      ],
      "execution_count": 26,
      "outputs": [
        {
          "output_type": "stream",
          "text": [
            "accuracy_score is: : 0.9953750541985836\n",
            "roc_auc_score is: : 0.783358810781212\n",
            "f1_score is: : 0.7155555555555556\n"
          ],
          "name": "stdout"
        }
      ]
    },
    {
      "cell_type": "code",
      "metadata": {
        "id": "W8bmI44r4e9e",
        "colab_type": "code",
        "colab": {
          "base_uri": "https://localhost:8080/",
          "height": 119
        },
        "outputId": "c09d81a8-12e6-4e7f-c828-8c9cad7642d7"
      },
      "source": [
        "print (\"confusion_matrix is: \")\n",
        "cm = confusion_matrix(y_test, predicted)\n",
        "cmDF = pd.DataFrame(cm, columns=['pred_0', 'pred_1'], index=['true_0', 'true_1'])\n",
        "print(cmDF)\n",
        "print('recall =',float(cm[1,1])/(cm[1,0]+cm[1,1]))\n",
        "print('precision =', float(cm[1,1])/(cm[1,1] + cm[0,1]))#1.0"
      ],
      "execution_count": 27,
      "outputs": [
        {
          "output_type": "stream",
          "text": [
            "confusion_matrix is: \n",
            "        pred_0  pred_1\n",
            "true_0   27387       0\n",
            "true_1     128     161\n",
            "recall = 0.5570934256055363\n",
            "precision = 1.0\n"
          ],
          "name": "stdout"
        }
      ]
    },
    {
      "cell_type": "markdown",
      "metadata": {
        "id": "Lj8zL40b4rgE",
        "colab_type": "text"
      },
      "source": [
        "### ***SMOTE Sampling***"
      ]
    },
    {
      "cell_type": "code",
      "metadata": {
        "id": "azFp-h2A4rMX",
        "colab_type": "code",
        "colab": {}
      },
      "source": [
        "\n",
        "#Wrong way to sampling: smote before split train/test, then test data does not reflect true distribution in reality, \n",
        "#and “blend” information from the test set into the training of the model. overfit! think about the case of simple \n",
        "#oversampling (where I just duplicate observations). If I upsample a dataset before splitting it into a train and \n",
        "#validation set, I could end up with the same observation in both datasets\n",
        "\n",
        "#https://imbalanced-learn.org/en/stable/install.html\n",
        "\n",
        "# Install\n",
        "# imbalanced-learn is currently available on the PyPi’s reporitories and you can install it via pip:\n",
        "\n",
        "# pip install -U imbalanced-learn\n",
        "\n",
        "#oversampling on only the training data, the right way! \n",
        "#sampling_strategy = number of samples in the majority class over the number of samples in the minority class after resampling"
      ],
      "execution_count": 0,
      "outputs": []
    },
    {
      "cell_type": "code",
      "metadata": {
        "id": "ytIw0NV_5FbO",
        "colab_type": "code",
        "colab": {
          "base_uri": "https://localhost:8080/",
          "height": 85
        },
        "outputId": "aabaae6d-bded-41a3-f23c-51a2899ccf5f"
      },
      "source": [
        "smote = SMOTE(random_state =42)\n",
        "X_train_sm, y_train_sm = smote.fit_sample(X_train,y_train)\n",
        "\n",
        "unique, counts = np.unique(y_train_sm, return_counts=True)\n",
        "\n",
        "print(np.asarray((unique,counts)).T)"
      ],
      "execution_count": 29,
      "outputs": [
        {
          "output_type": "stream",
          "text": [
            "/usr/local/lib/python3.6/dist-packages/sklearn/utils/deprecation.py:87: FutureWarning: Function safe_indexing is deprecated; safe_indexing is deprecated in version 0.22 and will be removed in version 0.24.\n",
            "  warnings.warn(msg, category=FutureWarning)\n"
          ],
          "name": "stderr"
        },
        {
          "output_type": "stream",
          "text": [
            "[[     0 109574]\n",
            " [     1 109574]]\n"
          ],
          "name": "stdout"
        }
      ]
    },
    {
      "cell_type": "markdown",
      "metadata": {
        "id": "sRVif1Z15qJ7",
        "colab_type": "text"
      },
      "source": [
        "RF model using SMOTED training data"
      ]
    },
    {
      "cell_type": "code",
      "metadata": {
        "id": "LTNXvvGK5oY4",
        "colab_type": "code",
        "colab": {
          "base_uri": "https://localhost:8080/",
          "height": 68
        },
        "outputId": "8274696c-0463-4d09-dee9-31b96bc5994d"
      },
      "source": [
        "rf_smote = rf.fit(X_train_sm, y_train_sm)\n",
        "\n",
        "# make prediction on test data\n",
        "\n",
        "predicted_sm = rf_smote.predict(X_test)\n",
        "\n",
        "# generate probability\n",
        "\n",
        "probs_sm = rf_smote.predict_proba(X_test)\n",
        "\n",
        "# generate evaluation metrics\n",
        "print(\"%s: %r\" % (\"accuracy_score_sm is: \", accuracy_score(y_test, predicted_sm)))\n",
        "print(\"%s: %r\" % (\"roc_auc_score_sm is: \", roc_auc_score(y_test, probs_sm[:, 1])))\n",
        "print(\"%s: %r\" % (\"f1_score_sm is: \", f1_score(y_test, predicted_sm)))#string to int"
      ],
      "execution_count": 30,
      "outputs": [
        {
          "output_type": "stream",
          "text": [
            "accuracy_score_sm is: : 0.9951943922532158\n",
            "roc_auc_score_sm is: : 0.7781941473760123\n",
            "f1_score_sm is: : 0.7037861915367483\n"
          ],
          "name": "stdout"
        }
      ]
    },
    {
      "cell_type": "code",
      "metadata": {
        "id": "_Dbry0zP6i3b",
        "colab_type": "code",
        "colab": {
          "base_uri": "https://localhost:8080/",
          "height": 119
        },
        "outputId": "1f98173b-42e1-4fe5-a7b6-756ada183a8d"
      },
      "source": [
        "\n",
        "print (\"confusion_matrix_sm is: \")\n",
        "cm_sm = confusion_matrix(y_test, predicted_sm)\n",
        "cmDF = pd.DataFrame(cm_sm, columns=['pred_0', 'pred_1'], index=['true_0', 'true_1'])\n",
        "print(cmDF)\n",
        "print('recall_sm =',float(cm_sm[1,1])/(cm_sm[1,0]+cm_sm[1,1]))\n",
        "print('precision_sm =', float(cm_sm[1,1])/(cm_sm[1,1] + cm_sm[0,1]))"
      ],
      "execution_count": 31,
      "outputs": [
        {
          "output_type": "stream",
          "text": [
            "confusion_matrix_sm is: \n",
            "        pred_0  pred_1\n",
            "true_0   27385       2\n",
            "true_1     131     158\n",
            "recall_sm = 0.5467128027681661\n",
            "precision_sm = 0.9875\n"
          ],
          "name": "stdout"
        }
      ]
    },
    {
      "cell_type": "markdown",
      "metadata": {
        "id": "dzTgK7GH7A84",
        "colab_type": "text"
      },
      "source": [
        "### **Parameter tuning by GridSearchCV**"
      ]
    },
    {
      "cell_type": "markdown",
      "metadata": {
        "id": "H_gV9PLB7L0X",
        "colab_type": "text"
      },
      "source": [
        "## Eval metrics for GridSearchCV over all fits upon combination of parameters and cv"
      ]
    },
    {
      "cell_type": "code",
      "metadata": {
        "id": "vPHHfcX36-0a",
        "colab_type": "code",
        "colab": {}
      },
      "source": [
        "# Evaluation metrics to be calculated for each combination of parameters and CV\n",
        "scores = {\n",
        "    'precision_score': make_scorer(precision_score),\n",
        "    'recall_score': make_scorer(recall_score),\n",
        "    'f1_score':make_scorer(f1_score, pos_label=1)\n",
        "}"
      ],
      "execution_count": 0,
      "outputs": []
    },
    {
      "cell_type": "code",
      "metadata": {
        "id": "uSShfTfG7met",
        "colab_type": "code",
        "colab": {}
      },
      "source": [
        "def grid_search_wrapper(model, parameters, refit_score = 'f1_score'):\n",
        "    \"\"\"\n",
        "    fits a GridSearchCV classifier using refit_score for optimization(refit on the best model according to refit_score)\n",
        "    prints classifier performance metrics\n",
        "    \"\"\"\n",
        "\n",
        "    grid_search = GridSearchCV(model, parameters, scoring=scores, refit=refit_score,\n",
        "                           cv=3, return_train_score=True, n_jobs=-1)\n",
        "    grid_search.fit(X_train, y_train)\n",
        "\n",
        "    # make predictions\n",
        "    y_pred = grid_search.predict(X_test)\n",
        "    y_prob = grid_search.predict_proba(X_test)[:,1]\n",
        "\n",
        "\n",
        "    print(\"Best parameters for {}\".format(refit_score))\n",
        "    print(grid_search.best_params_)\n",
        "\n",
        "\n",
        "    # confusion matrix on the test data\n",
        "    print('\\nConfusion matrix of Random Forest optimized for {} on the test data:'.format(refit_score))\n",
        "    cm = confusion_matrix(y_test, y_pred)\n",
        "    cmDF = pd.DataFrame(cm, columns=['pred_0','pred_1'], index=['true_0','true_1'])\n",
        "    print(cmDF)\n",
        "\n",
        "    print(\"\\t%s: %r\" % (\"roc_auc_score is: \", roc_auc_score(y_test, y_prob)))\n",
        "    print(\"\\t%s: %r\" % (\"f1_score is: \", f1_score(y_test, y_pred)))#string to int\n",
        "\n",
        "    print('recall =',float(cm[1,1])/(cm[1,0]+cm[1,1]))\n",
        "    print('precision =', float(cm[1,1])/(cm[1,1] + cm[0,1]))\n",
        "    return grid_search\n",
        "    "
      ],
      "execution_count": 0,
      "outputs": []
    },
    {
      "cell_type": "markdown",
      "metadata": {
        "id": "APdmX4yiVYmX",
        "colab_type": "text"
      },
      "source": [
        "Optimizing on F1 score on LR"
      ]
    },
    {
      "cell_type": "code",
      "metadata": {
        "id": "McEb1rMUVXTY",
        "colab_type": "code",
        "colab": {
          "base_uri": "https://localhost:8080/",
          "height": 221
        },
        "outputId": "165b6f72-d459-4600-a622-9302e61eea95"
      },
      "source": [
        "# C: inverse of regularization strength, smaller values specify stronger regularization\n",
        "\n",
        "LRGrid = {'C': np.logspace(-2,2,5), 'penalty': ['l1','l2']} #l1 lasso l2 ridge\n",
        "\n",
        "logRegModel = LogisticRegression(random_state=0)\n",
        "\n",
        "grid_search_LR_f1 = grid_search_wrapper(logRegModel, LRGrid, refit_score = 'f1_score')"
      ],
      "execution_count": 34,
      "outputs": [
        {
          "output_type": "stream",
          "text": [
            "Best parameters for f1_score\n",
            "{'C': 0.01, 'penalty': 'l2'}\n",
            "\n",
            "Confusion matrix of Random Forest optimized for f1_score on the test data:\n",
            "        pred_0  pred_1\n",
            "true_0   27387       0\n",
            "true_1     289       0\n",
            "\troc_auc_score is: : 0.7674228029538931\n",
            "\tf1_score is: : 0.0\n",
            "recall = 0.0\n",
            "precision = nan\n"
          ],
          "name": "stdout"
        },
        {
          "output_type": "stream",
          "text": [
            "/usr/local/lib/python3.6/dist-packages/ipykernel_launcher.py:30: RuntimeWarning: invalid value encountered in true_divide\n"
          ],
          "name": "stderr"
        }
      ]
    },
    {
      "cell_type": "markdown",
      "metadata": {
        "id": "z5_hkpa0W9vK",
        "colab_type": "text"
      },
      "source": [
        "Optimizing on F1 score on RF"
      ]
    },
    {
      "cell_type": "code",
      "metadata": {
        "id": "sdU8TLfIW8E2",
        "colab_type": "code",
        "colab": {}
      },
      "source": [
        "parameters = {\n",
        "    'max_depth': [None, 5, 15],\n",
        "    'n_estimators': [10,150],\n",
        "    'class_weight': [{0:1,1:w} for w in [0.2,1,100]]\n",
        "}\n",
        "\n",
        "clf = RandomForestClassifier(random_state=42)\n",
        "\n"
      ],
      "execution_count": 0,
      "outputs": []
    },
    {
      "cell_type": "code",
      "metadata": {
        "id": "bZGFLCKhXaHi",
        "colab_type": "code",
        "colab": {
          "base_uri": "https://localhost:8080/",
          "height": 204
        },
        "outputId": "7825cc0c-7b40-4e7f-c46e-797ecf2ec1f4"
      },
      "source": [
        "grid_search_rf_f1 = grid_search_wrapper(clf, parameters,refit_score='f1_score')"
      ],
      "execution_count": 36,
      "outputs": [
        {
          "output_type": "stream",
          "text": [
            "Best parameters for f1_score\n",
            "{'class_weight': {0: 1, 1: 100}, 'max_depth': None, 'n_estimators': 150}\n",
            "\n",
            "Confusion matrix of Random Forest optimized for f1_score on the test data:\n",
            "        pred_0  pred_1\n",
            "true_0   27387       0\n",
            "true_1     128     161\n",
            "\troc_auc_score is: : 0.7845223209102189\n",
            "\tf1_score is: : 0.7155555555555556\n",
            "recall = 0.5570934256055363\n",
            "precision = 1.0\n"
          ],
          "name": "stdout"
        }
      ]
    },
    {
      "cell_type": "code",
      "metadata": {
        "id": "aObTiRuYZ2m6",
        "colab_type": "code",
        "colab": {
          "base_uri": "https://localhost:8080/",
          "height": 153
        },
        "outputId": "a54428b6-1ae7-40bd-91af-1f538abe6ff3"
      },
      "source": [
        "best_rf_model_f1 = grid_search_rf_f1.best_estimator_\n",
        "best_rf_model_f1"
      ],
      "execution_count": 37,
      "outputs": [
        {
          "output_type": "execute_result",
          "data": {
            "text/plain": [
              "RandomForestClassifier(bootstrap=True, ccp_alpha=0.0,\n",
              "                       class_weight={0: 1, 1: 100}, criterion='gini',\n",
              "                       max_depth=None, max_features='auto', max_leaf_nodes=None,\n",
              "                       max_samples=None, min_impurity_decrease=0.0,\n",
              "                       min_impurity_split=None, min_samples_leaf=1,\n",
              "                       min_samples_split=2, min_weight_fraction_leaf=0.0,\n",
              "                       n_estimators=150, n_jobs=None, oob_score=False,\n",
              "                       random_state=42, verbose=0, warm_start=False)"
            ]
          },
          "metadata": {
            "tags": []
          },
          "execution_count": 37
        }
      ]
    },
    {
      "cell_type": "code",
      "metadata": {
        "id": "jOVGqYRlaB0r",
        "colab_type": "code",
        "colab": {
          "base_uri": "https://localhost:8080/",
          "height": 204
        },
        "outputId": "ebc2f7e1-de10-44fa-d9bb-bb921daaac37"
      },
      "source": [
        "results_f1 = pd.DataFrame(grid_search_rf_f1.cv_results_)\n",
        "results_sortf1 = results_f1.sort_values(by = 'mean_test_f1_score', ascending=False)\n",
        "results_sortf1[['mean_test_precision_score', 'mean_test_recall_score', 'mean_test_f1_score', 'mean_train_precision_score', 'mean_train_recall_score', 'mean_train_f1_score','param_max_depth', 'param_class_weight', 'param_n_estimators']].round(3).head()\n"
      ],
      "execution_count": 38,
      "outputs": [
        {
          "output_type": "execute_result",
          "data": {
            "text/html": [
              "<div>\n",
              "<style scoped>\n",
              "    .dataframe tbody tr th:only-of-type {\n",
              "        vertical-align: middle;\n",
              "    }\n",
              "\n",
              "    .dataframe tbody tr th {\n",
              "        vertical-align: top;\n",
              "    }\n",
              "\n",
              "    .dataframe thead th {\n",
              "        text-align: right;\n",
              "    }\n",
              "</style>\n",
              "<table border=\"1\" class=\"dataframe\">\n",
              "  <thead>\n",
              "    <tr style=\"text-align: right;\">\n",
              "      <th></th>\n",
              "      <th>mean_test_precision_score</th>\n",
              "      <th>mean_test_recall_score</th>\n",
              "      <th>mean_test_f1_score</th>\n",
              "      <th>mean_train_precision_score</th>\n",
              "      <th>mean_train_recall_score</th>\n",
              "      <th>mean_train_f1_score</th>\n",
              "      <th>param_max_depth</th>\n",
              "      <th>param_class_weight</th>\n",
              "      <th>param_n_estimators</th>\n",
              "    </tr>\n",
              "  </thead>\n",
              "  <tbody>\n",
              "    <tr>\n",
              "      <th>13</th>\n",
              "      <td>1.000</td>\n",
              "      <td>0.513</td>\n",
              "      <td>0.678</td>\n",
              "      <td>1.0</td>\n",
              "      <td>1.000</td>\n",
              "      <td>1.000</td>\n",
              "      <td>None</td>\n",
              "      <td>{0: 1, 1: 100}</td>\n",
              "      <td>150</td>\n",
              "    </tr>\n",
              "    <tr>\n",
              "      <th>0</th>\n",
              "      <td>0.998</td>\n",
              "      <td>0.513</td>\n",
              "      <td>0.678</td>\n",
              "      <td>1.0</td>\n",
              "      <td>0.869</td>\n",
              "      <td>0.930</td>\n",
              "      <td>None</td>\n",
              "      <td>{0: 1, 1: 0.2}</td>\n",
              "      <td>10</td>\n",
              "    </tr>\n",
              "    <tr>\n",
              "      <th>7</th>\n",
              "      <td>0.998</td>\n",
              "      <td>0.513</td>\n",
              "      <td>0.678</td>\n",
              "      <td>1.0</td>\n",
              "      <td>1.000</td>\n",
              "      <td>1.000</td>\n",
              "      <td>None</td>\n",
              "      <td>{0: 1, 1: 1}</td>\n",
              "      <td>150</td>\n",
              "    </tr>\n",
              "    <tr>\n",
              "      <th>11</th>\n",
              "      <td>0.998</td>\n",
              "      <td>0.513</td>\n",
              "      <td>0.678</td>\n",
              "      <td>1.0</td>\n",
              "      <td>0.556</td>\n",
              "      <td>0.715</td>\n",
              "      <td>15</td>\n",
              "      <td>{0: 1, 1: 1}</td>\n",
              "      <td>150</td>\n",
              "    </tr>\n",
              "    <tr>\n",
              "      <th>1</th>\n",
              "      <td>0.998</td>\n",
              "      <td>0.513</td>\n",
              "      <td>0.678</td>\n",
              "      <td>1.0</td>\n",
              "      <td>1.000</td>\n",
              "      <td>1.000</td>\n",
              "      <td>None</td>\n",
              "      <td>{0: 1, 1: 0.2}</td>\n",
              "      <td>150</td>\n",
              "    </tr>\n",
              "  </tbody>\n",
              "</table>\n",
              "</div>"
            ],
            "text/plain": [
              "    mean_test_precision_score  ...  param_n_estimators\n",
              "13                      1.000  ...                 150\n",
              "0                       0.998  ...                  10\n",
              "7                       0.998  ...                 150\n",
              "11                      0.998  ...                 150\n",
              "1                       0.998  ...                 150\n",
              "\n",
              "[5 rows x 9 columns]"
            ]
          },
          "metadata": {
            "tags": []
          },
          "execution_count": 38
        }
      ]
    },
    {
      "cell_type": "markdown",
      "metadata": {
        "id": "_CjBRPmebErC",
        "colab_type": "text"
      },
      "source": [
        "Optimizing recall score on RF model\n"
      ]
    },
    {
      "cell_type": "code",
      "metadata": {
        "id": "WUxaMbIybEV4",
        "colab_type": "code",
        "colab": {
          "base_uri": "https://localhost:8080/",
          "height": 204
        },
        "outputId": "a3c3d721-33fe-47ac-c83d-4fad3581e172"
      },
      "source": [
        "grid_search_rf_recall = grid_search_wrapper(clf, parameters, refit_score='recall_score')\n"
      ],
      "execution_count": 39,
      "outputs": [
        {
          "output_type": "stream",
          "text": [
            "Best parameters for recall_score\n",
            "{'class_weight': {0: 1, 1: 100}, 'max_depth': 5, 'n_estimators': 150}\n",
            "\n",
            "Confusion matrix of Random Forest optimized for recall_score on the test data:\n",
            "        pred_0  pred_1\n",
            "true_0   27166     221\n",
            "true_1     125     164\n",
            "\troc_auc_score is: : 0.7996019630458874\n",
            "\tf1_score is: : 0.48664688427299707\n",
            "recall = 0.5674740484429066\n",
            "precision = 0.42597402597402595\n"
          ],
          "name": "stdout"
        }
      ]
    },
    {
      "cell_type": "code",
      "metadata": {
        "id": "PkW2XPZDfJWr",
        "colab_type": "code",
        "colab": {
          "base_uri": "https://localhost:8080/",
          "height": 153
        },
        "outputId": "f5b5968c-45b6-4042-93fa-1979afb4366e"
      },
      "source": [
        "best_rf_model_recall = grid_search_rf_recall.best_estimator_\n",
        "best_rf_model_recall"
      ],
      "execution_count": 40,
      "outputs": [
        {
          "output_type": "execute_result",
          "data": {
            "text/plain": [
              "RandomForestClassifier(bootstrap=True, ccp_alpha=0.0,\n",
              "                       class_weight={0: 1, 1: 100}, criterion='gini',\n",
              "                       max_depth=5, max_features='auto', max_leaf_nodes=None,\n",
              "                       max_samples=None, min_impurity_decrease=0.0,\n",
              "                       min_impurity_split=None, min_samples_leaf=1,\n",
              "                       min_samples_split=2, min_weight_fraction_leaf=0.0,\n",
              "                       n_estimators=150, n_jobs=None, oob_score=False,\n",
              "                       random_state=42, verbose=0, warm_start=False)"
            ]
          },
          "metadata": {
            "tags": []
          },
          "execution_count": 40
        }
      ]
    },
    {
      "cell_type": "code",
      "metadata": {
        "id": "uOZlmPdJfTZL",
        "colab_type": "code",
        "colab": {}
      },
      "source": [
        "# make predictions on the test set\n",
        "predictedBest_recall = best_rf_model_recall.predict(X_test)\n",
        "\n",
        "\n",
        "# generate class probability\n",
        "probsBest_recall = best_rf_model_recall.predict_proba(X_test)\n"
      ],
      "execution_count": 0,
      "outputs": []
    },
    {
      "cell_type": "code",
      "metadata": {
        "id": "QbZgqFrvgH70",
        "colab_type": "code",
        "colab": {
          "base_uri": "https://localhost:8080/",
          "height": 204
        },
        "outputId": "d6ee81d7-1de9-4192-aaa3-1111b8a602f6"
      },
      "source": [
        "results_recall = pd.DataFrame(grid_search_rf_recall.cv_results_)\n",
        "results_sortrecall = results_recall.sort_values(by= 'mean_test_recall_score', ascending = False)\n",
        "results_sortrecall[['mean_test_precision_score', 'mean_test_recall_score', 'mean_test_f1_score', 'mean_train_precision_score', 'mean_train_recall_score', 'mean_train_f1_score','param_max_depth', 'param_class_weight', 'param_n_estimators']].round(3).head()\n"
      ],
      "execution_count": 42,
      "outputs": [
        {
          "output_type": "execute_result",
          "data": {
            "text/html": [
              "<div>\n",
              "<style scoped>\n",
              "    .dataframe tbody tr th:only-of-type {\n",
              "        vertical-align: middle;\n",
              "    }\n",
              "\n",
              "    .dataframe tbody tr th {\n",
              "        vertical-align: top;\n",
              "    }\n",
              "\n",
              "    .dataframe thead th {\n",
              "        text-align: right;\n",
              "    }\n",
              "</style>\n",
              "<table border=\"1\" class=\"dataframe\">\n",
              "  <thead>\n",
              "    <tr style=\"text-align: right;\">\n",
              "      <th></th>\n",
              "      <th>mean_test_precision_score</th>\n",
              "      <th>mean_test_recall_score</th>\n",
              "      <th>mean_test_f1_score</th>\n",
              "      <th>mean_train_precision_score</th>\n",
              "      <th>mean_train_recall_score</th>\n",
              "      <th>mean_train_f1_score</th>\n",
              "      <th>param_max_depth</th>\n",
              "      <th>param_class_weight</th>\n",
              "      <th>param_n_estimators</th>\n",
              "    </tr>\n",
              "  </thead>\n",
              "  <tbody>\n",
              "    <tr>\n",
              "      <th>15</th>\n",
              "      <td>0.167</td>\n",
              "      <td>0.611</td>\n",
              "      <td>0.262</td>\n",
              "      <td>0.173</td>\n",
              "      <td>0.633</td>\n",
              "      <td>0.272</td>\n",
              "      <td>5</td>\n",
              "      <td>{0: 1, 1: 100}</td>\n",
              "      <td>150</td>\n",
              "    </tr>\n",
              "    <tr>\n",
              "      <th>14</th>\n",
              "      <td>0.218</td>\n",
              "      <td>0.578</td>\n",
              "      <td>0.310</td>\n",
              "      <td>0.230</td>\n",
              "      <td>0.603</td>\n",
              "      <td>0.326</td>\n",
              "      <td>5</td>\n",
              "      <td>{0: 1, 1: 100}</td>\n",
              "      <td>10</td>\n",
              "    </tr>\n",
              "    <tr>\n",
              "      <th>0</th>\n",
              "      <td>0.998</td>\n",
              "      <td>0.513</td>\n",
              "      <td>0.678</td>\n",
              "      <td>1.000</td>\n",
              "      <td>0.869</td>\n",
              "      <td>0.930</td>\n",
              "      <td>None</td>\n",
              "      <td>{0: 1, 1: 0.2}</td>\n",
              "      <td>10</td>\n",
              "    </tr>\n",
              "    <tr>\n",
              "      <th>7</th>\n",
              "      <td>0.998</td>\n",
              "      <td>0.513</td>\n",
              "      <td>0.678</td>\n",
              "      <td>1.000</td>\n",
              "      <td>1.000</td>\n",
              "      <td>1.000</td>\n",
              "      <td>None</td>\n",
              "      <td>{0: 1, 1: 1}</td>\n",
              "      <td>150</td>\n",
              "    </tr>\n",
              "    <tr>\n",
              "      <th>13</th>\n",
              "      <td>1.000</td>\n",
              "      <td>0.513</td>\n",
              "      <td>0.678</td>\n",
              "      <td>1.000</td>\n",
              "      <td>1.000</td>\n",
              "      <td>1.000</td>\n",
              "      <td>None</td>\n",
              "      <td>{0: 1, 1: 100}</td>\n",
              "      <td>150</td>\n",
              "    </tr>\n",
              "  </tbody>\n",
              "</table>\n",
              "</div>"
            ],
            "text/plain": [
              "    mean_test_precision_score  ...  param_n_estimators\n",
              "15                      0.167  ...                 150\n",
              "14                      0.218  ...                  10\n",
              "0                       0.998  ...                  10\n",
              "7                       0.998  ...                 150\n",
              "13                      1.000  ...                 150\n",
              "\n",
              "[5 rows x 9 columns]"
            ]
          },
          "metadata": {
            "tags": []
          },
          "execution_count": 42
        }
      ]
    },
    {
      "cell_type": "code",
      "metadata": {
        "id": "JY247Xo9guHK",
        "colab_type": "code",
        "colab": {}
      },
      "source": [
        ""
      ],
      "execution_count": 0,
      "outputs": []
    },
    {
      "cell_type": "markdown",
      "metadata": {
        "id": "XjPc1idahO26",
        "colab_type": "text"
      },
      "source": [
        "### **Task:**"
      ]
    },
    {
      "cell_type": "code",
      "metadata": {
        "id": "DHuQy610guCJ",
        "colab_type": "code",
        "colab": {
          "base_uri": "https://localhost:8080/",
          "height": 235
        },
        "outputId": "180e4c24-8a2f-46ef-e786-f37def17fe3a"
      },
      "source": [
        "trainDF = pd.concat([X_train, y_train], axis=1)\n",
        "pd.crosstab(trainDF['n_dev_shared'], trainDF['class'])"
      ],
      "execution_count": 43,
      "outputs": [
        {
          "output_type": "execute_result",
          "data": {
            "text/html": [
              "<div>\n",
              "<style scoped>\n",
              "    .dataframe tbody tr th:only-of-type {\n",
              "        vertical-align: middle;\n",
              "    }\n",
              "\n",
              "    .dataframe tbody tr th {\n",
              "        vertical-align: top;\n",
              "    }\n",
              "\n",
              "    .dataframe thead th {\n",
              "        text-align: right;\n",
              "    }\n",
              "</style>\n",
              "<table border=\"1\" class=\"dataframe\">\n",
              "  <thead>\n",
              "    <tr style=\"text-align: right;\">\n",
              "      <th>class</th>\n",
              "      <th>0</th>\n",
              "      <th>1</th>\n",
              "    </tr>\n",
              "    <tr>\n",
              "      <th>n_dev_shared</th>\n",
              "      <th></th>\n",
              "      <th></th>\n",
              "    </tr>\n",
              "  </thead>\n",
              "  <tbody>\n",
              "    <tr>\n",
              "      <th>0.00</th>\n",
              "      <td>104952</td>\n",
              "      <td>466</td>\n",
              "    </tr>\n",
              "    <tr>\n",
              "      <th>0.25</th>\n",
              "      <td>4428</td>\n",
              "      <td>368</td>\n",
              "    </tr>\n",
              "    <tr>\n",
              "      <th>0.50</th>\n",
              "      <td>153</td>\n",
              "      <td>186</td>\n",
              "    </tr>\n",
              "    <tr>\n",
              "      <th>0.75</th>\n",
              "      <td>33</td>\n",
              "      <td>79</td>\n",
              "    </tr>\n",
              "    <tr>\n",
              "      <th>1.00</th>\n",
              "      <td>8</td>\n",
              "      <td>27</td>\n",
              "    </tr>\n",
              "  </tbody>\n",
              "</table>\n",
              "</div>"
            ],
            "text/plain": [
              "class              0    1\n",
              "n_dev_shared             \n",
              "0.00          104952  466\n",
              "0.25            4428  368\n",
              "0.50             153  186\n",
              "0.75              33   79\n",
              "1.00               8   27"
            ]
          },
          "metadata": {
            "tags": []
          },
          "execution_count": 43
        }
      ]
    },
    {
      "cell_type": "code",
      "metadata": {
        "id": "TSAQ527oJKW1",
        "colab_type": "code",
        "colab": {
          "base_uri": "https://localhost:8080/",
          "height": 439
        },
        "outputId": "f4717b11-5b0a-465c-f392-560d46ae7e3c"
      },
      "source": [
        "X_train"
      ],
      "execution_count": 44,
      "outputs": [
        {
          "output_type": "execute_result",
          "data": {
            "text/html": [
              "<div>\n",
              "<style scoped>\n",
              "    .dataframe tbody tr th:only-of-type {\n",
              "        vertical-align: middle;\n",
              "    }\n",
              "\n",
              "    .dataframe tbody tr th {\n",
              "        vertical-align: top;\n",
              "    }\n",
              "\n",
              "    .dataframe thead th {\n",
              "        text-align: right;\n",
              "    }\n",
              "</style>\n",
              "<table border=\"1\" class=\"dataframe\">\n",
              "  <thead>\n",
              "    <tr style=\"text-align: right;\">\n",
              "      <th></th>\n",
              "      <th>purchase_value</th>\n",
              "      <th>sex</th>\n",
              "      <th>age</th>\n",
              "      <th>interval_after_signup</th>\n",
              "      <th>signup_day_of_year</th>\n",
              "      <th>purchase_day_of_year</th>\n",
              "      <th>signup_seconds_of_day</th>\n",
              "      <th>puchase_seconds_of_day</th>\n",
              "      <th>source_Ads</th>\n",
              "      <th>source_Direct</th>\n",
              "      <th>source_SEO</th>\n",
              "      <th>browser_Chrome</th>\n",
              "      <th>browser_FireFox</th>\n",
              "      <th>browser_IE</th>\n",
              "      <th>browser_Opera</th>\n",
              "      <th>browser_Safari</th>\n",
              "      <th>n_dev_shared</th>\n",
              "      <th>n_ip_shared</th>\n",
              "      <th>n_country_shared</th>\n",
              "    </tr>\n",
              "  </thead>\n",
              "  <tbody>\n",
              "    <tr>\n",
              "      <th>35821</th>\n",
              "      <td>29</td>\n",
              "      <td>1</td>\n",
              "      <td>27</td>\n",
              "      <td>7923474.0</td>\n",
              "      <td>86</td>\n",
              "      <td>177</td>\n",
              "      <td>7579</td>\n",
              "      <td>68653</td>\n",
              "      <td>0</td>\n",
              "      <td>1</td>\n",
              "      <td>0</td>\n",
              "      <td>0</td>\n",
              "      <td>1</td>\n",
              "      <td>0</td>\n",
              "      <td>0</td>\n",
              "      <td>0</td>\n",
              "      <td>0.0</td>\n",
              "      <td>0.0</td>\n",
              "      <td>1.000000</td>\n",
              "    </tr>\n",
              "    <tr>\n",
              "      <th>11269</th>\n",
              "      <td>23</td>\n",
              "      <td>0</td>\n",
              "      <td>32</td>\n",
              "      <td>6175612.0</td>\n",
              "      <td>33</td>\n",
              "      <td>104</td>\n",
              "      <td>3772</td>\n",
              "      <td>44984</td>\n",
              "      <td>1</td>\n",
              "      <td>0</td>\n",
              "      <td>0</td>\n",
              "      <td>1</td>\n",
              "      <td>0</td>\n",
              "      <td>0</td>\n",
              "      <td>0</td>\n",
              "      <td>0</td>\n",
              "      <td>0.0</td>\n",
              "      <td>0.0</td>\n",
              "      <td>0.383750</td>\n",
              "    </tr>\n",
              "    <tr>\n",
              "      <th>54561</th>\n",
              "      <td>29</td>\n",
              "      <td>1</td>\n",
              "      <td>28</td>\n",
              "      <td>9638429.0</td>\n",
              "      <td>78</td>\n",
              "      <td>190</td>\n",
              "      <td>48913</td>\n",
              "      <td>10542</td>\n",
              "      <td>0</td>\n",
              "      <td>0</td>\n",
              "      <td>1</td>\n",
              "      <td>0</td>\n",
              "      <td>1</td>\n",
              "      <td>0</td>\n",
              "      <td>0</td>\n",
              "      <td>0</td>\n",
              "      <td>0.0</td>\n",
              "      <td>0.0</td>\n",
              "      <td>0.014601</td>\n",
              "    </tr>\n",
              "    <tr>\n",
              "      <th>57092</th>\n",
              "      <td>26</td>\n",
              "      <td>1</td>\n",
              "      <td>42</td>\n",
              "      <td>2497028.0</td>\n",
              "      <td>78</td>\n",
              "      <td>107</td>\n",
              "      <td>85593</td>\n",
              "      <td>77021</td>\n",
              "      <td>0</td>\n",
              "      <td>0</td>\n",
              "      <td>1</td>\n",
              "      <td>0</td>\n",
              "      <td>0</td>\n",
              "      <td>0</td>\n",
              "      <td>0</td>\n",
              "      <td>1</td>\n",
              "      <td>0.0</td>\n",
              "      <td>0.0</td>\n",
              "      <td>1.000000</td>\n",
              "    </tr>\n",
              "    <tr>\n",
              "      <th>33517</th>\n",
              "      <td>55</td>\n",
              "      <td>1</td>\n",
              "      <td>18</td>\n",
              "      <td>3211461.0</td>\n",
              "      <td>1</td>\n",
              "      <td>38</td>\n",
              "      <td>27776</td>\n",
              "      <td>42437</td>\n",
              "      <td>0</td>\n",
              "      <td>0</td>\n",
              "      <td>1</td>\n",
              "      <td>0</td>\n",
              "      <td>0</td>\n",
              "      <td>1</td>\n",
              "      <td>0</td>\n",
              "      <td>0</td>\n",
              "      <td>0.0</td>\n",
              "      <td>0.0</td>\n",
              "      <td>1.000000</td>\n",
              "    </tr>\n",
              "    <tr>\n",
              "      <th>...</th>\n",
              "      <td>...</td>\n",
              "      <td>...</td>\n",
              "      <td>...</td>\n",
              "      <td>...</td>\n",
              "      <td>...</td>\n",
              "      <td>...</td>\n",
              "      <td>...</td>\n",
              "      <td>...</td>\n",
              "      <td>...</td>\n",
              "      <td>...</td>\n",
              "      <td>...</td>\n",
              "      <td>...</td>\n",
              "      <td>...</td>\n",
              "      <td>...</td>\n",
              "      <td>...</td>\n",
              "      <td>...</td>\n",
              "      <td>...</td>\n",
              "      <td>...</td>\n",
              "      <td>...</td>\n",
              "    </tr>\n",
              "    <tr>\n",
              "      <th>110268</th>\n",
              "      <td>31</td>\n",
              "      <td>1</td>\n",
              "      <td>54</td>\n",
              "      <td>1632961.0</td>\n",
              "      <td>96</td>\n",
              "      <td>114</td>\n",
              "      <td>5301</td>\n",
              "      <td>83062</td>\n",
              "      <td>1</td>\n",
              "      <td>0</td>\n",
              "      <td>0</td>\n",
              "      <td>1</td>\n",
              "      <td>0</td>\n",
              "      <td>0</td>\n",
              "      <td>0</td>\n",
              "      <td>0</td>\n",
              "      <td>0.0</td>\n",
              "      <td>0.0</td>\n",
              "      <td>0.209937</td>\n",
              "    </tr>\n",
              "    <tr>\n",
              "      <th>119879</th>\n",
              "      <td>35</td>\n",
              "      <td>0</td>\n",
              "      <td>23</td>\n",
              "      <td>3236817.0</td>\n",
              "      <td>87</td>\n",
              "      <td>124</td>\n",
              "      <td>45919</td>\n",
              "      <td>85936</td>\n",
              "      <td>0</td>\n",
              "      <td>0</td>\n",
              "      <td>1</td>\n",
              "      <td>0</td>\n",
              "      <td>0</td>\n",
              "      <td>0</td>\n",
              "      <td>0</td>\n",
              "      <td>1</td>\n",
              "      <td>0.0</td>\n",
              "      <td>0.0</td>\n",
              "      <td>0.051835</td>\n",
              "    </tr>\n",
              "    <tr>\n",
              "      <th>103694</th>\n",
              "      <td>16</td>\n",
              "      <td>1</td>\n",
              "      <td>33</td>\n",
              "      <td>6398156.0</td>\n",
              "      <td>215</td>\n",
              "      <td>289</td>\n",
              "      <td>59121</td>\n",
              "      <td>63677</td>\n",
              "      <td>1</td>\n",
              "      <td>0</td>\n",
              "      <td>0</td>\n",
              "      <td>1</td>\n",
              "      <td>0</td>\n",
              "      <td>0</td>\n",
              "      <td>0</td>\n",
              "      <td>0</td>\n",
              "      <td>0.0</td>\n",
              "      <td>0.0</td>\n",
              "      <td>0.018144</td>\n",
              "    </tr>\n",
              "    <tr>\n",
              "      <th>131932</th>\n",
              "      <td>75</td>\n",
              "      <td>1</td>\n",
              "      <td>44</td>\n",
              "      <td>8737289.0</td>\n",
              "      <td>212</td>\n",
              "      <td>313</td>\n",
              "      <td>63571</td>\n",
              "      <td>74460</td>\n",
              "      <td>1</td>\n",
              "      <td>0</td>\n",
              "      <td>0</td>\n",
              "      <td>0</td>\n",
              "      <td>0</td>\n",
              "      <td>1</td>\n",
              "      <td>0</td>\n",
              "      <td>0</td>\n",
              "      <td>0.0</td>\n",
              "      <td>0.0</td>\n",
              "      <td>0.077303</td>\n",
              "    </tr>\n",
              "    <tr>\n",
              "      <th>121958</th>\n",
              "      <td>17</td>\n",
              "      <td>0</td>\n",
              "      <td>28</td>\n",
              "      <td>3525163.0</td>\n",
              "      <td>77</td>\n",
              "      <td>118</td>\n",
              "      <td>41760</td>\n",
              "      <td>24523</td>\n",
              "      <td>0</td>\n",
              "      <td>0</td>\n",
              "      <td>1</td>\n",
              "      <td>1</td>\n",
              "      <td>0</td>\n",
              "      <td>0</td>\n",
              "      <td>0</td>\n",
              "      <td>0</td>\n",
              "      <td>0.0</td>\n",
              "      <td>0.0</td>\n",
              "      <td>1.000000</td>\n",
              "    </tr>\n",
              "  </tbody>\n",
              "</table>\n",
              "<p>110700 rows × 19 columns</p>\n",
              "</div>"
            ],
            "text/plain": [
              "        purchase_value  sex  age  ...  n_dev_shared  n_ip_shared  n_country_shared\n",
              "35821               29    1   27  ...           0.0          0.0          1.000000\n",
              "11269               23    0   32  ...           0.0          0.0          0.383750\n",
              "54561               29    1   28  ...           0.0          0.0          0.014601\n",
              "57092               26    1   42  ...           0.0          0.0          1.000000\n",
              "33517               55    1   18  ...           0.0          0.0          1.000000\n",
              "...                ...  ...  ...  ...           ...          ...               ...\n",
              "110268              31    1   54  ...           0.0          0.0          0.209937\n",
              "119879              35    0   23  ...           0.0          0.0          0.051835\n",
              "103694              16    1   33  ...           0.0          0.0          0.018144\n",
              "131932              75    1   44  ...           0.0          0.0          0.077303\n",
              "121958              17    0   28  ...           0.0          0.0          1.000000\n",
              "\n",
              "[110700 rows x 19 columns]"
            ]
          },
          "metadata": {
            "tags": []
          },
          "execution_count": 44
        }
      ]
    },
    {
      "cell_type": "code",
      "metadata": {
        "id": "ec6_6880JMU8",
        "colab_type": "code",
        "colab": {
          "base_uri": "https://localhost:8080/",
          "height": 439
        },
        "outputId": "1a02d777-97a7-4e97-c31b-bd7a6e241b9e"
      },
      "source": [
        "X_test"
      ],
      "execution_count": 45,
      "outputs": [
        {
          "output_type": "execute_result",
          "data": {
            "text/html": [
              "<div>\n",
              "<style scoped>\n",
              "    .dataframe tbody tr th:only-of-type {\n",
              "        vertical-align: middle;\n",
              "    }\n",
              "\n",
              "    .dataframe tbody tr th {\n",
              "        vertical-align: top;\n",
              "    }\n",
              "\n",
              "    .dataframe thead th {\n",
              "        text-align: right;\n",
              "    }\n",
              "</style>\n",
              "<table border=\"1\" class=\"dataframe\">\n",
              "  <thead>\n",
              "    <tr style=\"text-align: right;\">\n",
              "      <th></th>\n",
              "      <th>purchase_value</th>\n",
              "      <th>sex</th>\n",
              "      <th>age</th>\n",
              "      <th>interval_after_signup</th>\n",
              "      <th>signup_day_of_year</th>\n",
              "      <th>purchase_day_of_year</th>\n",
              "      <th>signup_seconds_of_day</th>\n",
              "      <th>puchase_seconds_of_day</th>\n",
              "      <th>source_Ads</th>\n",
              "      <th>source_Direct</th>\n",
              "      <th>source_SEO</th>\n",
              "      <th>browser_Chrome</th>\n",
              "      <th>browser_FireFox</th>\n",
              "      <th>browser_IE</th>\n",
              "      <th>browser_Opera</th>\n",
              "      <th>browser_Safari</th>\n",
              "      <th>n_dev_shared</th>\n",
              "      <th>n_ip_shared</th>\n",
              "      <th>n_country_shared</th>\n",
              "    </tr>\n",
              "  </thead>\n",
              "  <tbody>\n",
              "    <tr>\n",
              "      <th>135822</th>\n",
              "      <td>77</td>\n",
              "      <td>0</td>\n",
              "      <td>34</td>\n",
              "      <td>4318816.0</td>\n",
              "      <td>89</td>\n",
              "      <td>139</td>\n",
              "      <td>7805</td>\n",
              "      <td>6621</td>\n",
              "      <td>0</td>\n",
              "      <td>0</td>\n",
              "      <td>1</td>\n",
              "      <td>1</td>\n",
              "      <td>0</td>\n",
              "      <td>0</td>\n",
              "      <td>0</td>\n",
              "      <td>0</td>\n",
              "      <td>0.25</td>\n",
              "      <td>0.0</td>\n",
              "      <td>0.052496</td>\n",
              "    </tr>\n",
              "    <tr>\n",
              "      <th>45145</th>\n",
              "      <td>57</td>\n",
              "      <td>0</td>\n",
              "      <td>35</td>\n",
              "      <td>7375746.0</td>\n",
              "      <td>183</td>\n",
              "      <td>268</td>\n",
              "      <td>36438</td>\n",
              "      <td>68184</td>\n",
              "      <td>0</td>\n",
              "      <td>0</td>\n",
              "      <td>1</td>\n",
              "      <td>1</td>\n",
              "      <td>0</td>\n",
              "      <td>0</td>\n",
              "      <td>0</td>\n",
              "      <td>0</td>\n",
              "      <td>0.00</td>\n",
              "      <td>0.0</td>\n",
              "      <td>0.012663</td>\n",
              "    </tr>\n",
              "    <tr>\n",
              "      <th>10039</th>\n",
              "      <td>26</td>\n",
              "      <td>1</td>\n",
              "      <td>30</td>\n",
              "      <td>6337569.0</td>\n",
              "      <td>165</td>\n",
              "      <td>238</td>\n",
              "      <td>2367</td>\n",
              "      <td>32736</td>\n",
              "      <td>0</td>\n",
              "      <td>0</td>\n",
              "      <td>1</td>\n",
              "      <td>1</td>\n",
              "      <td>0</td>\n",
              "      <td>0</td>\n",
              "      <td>0</td>\n",
              "      <td>0</td>\n",
              "      <td>0.00</td>\n",
              "      <td>0.0</td>\n",
              "      <td>0.017672</td>\n",
              "    </tr>\n",
              "    <tr>\n",
              "      <th>40401</th>\n",
              "      <td>39</td>\n",
              "      <td>1</td>\n",
              "      <td>52</td>\n",
              "      <td>9190754.0</td>\n",
              "      <td>184</td>\n",
              "      <td>291</td>\n",
              "      <td>82140</td>\n",
              "      <td>28094</td>\n",
              "      <td>1</td>\n",
              "      <td>0</td>\n",
              "      <td>0</td>\n",
              "      <td>1</td>\n",
              "      <td>0</td>\n",
              "      <td>0</td>\n",
              "      <td>0</td>\n",
              "      <td>0</td>\n",
              "      <td>0.00</td>\n",
              "      <td>0.0</td>\n",
              "      <td>0.095589</td>\n",
              "    </tr>\n",
              "    <tr>\n",
              "      <th>97921</th>\n",
              "      <td>19</td>\n",
              "      <td>0</td>\n",
              "      <td>25</td>\n",
              "      <td>9831531.0</td>\n",
              "      <td>210</td>\n",
              "      <td>324</td>\n",
              "      <td>40404</td>\n",
              "      <td>22335</td>\n",
              "      <td>0</td>\n",
              "      <td>1</td>\n",
              "      <td>0</td>\n",
              "      <td>0</td>\n",
              "      <td>0</td>\n",
              "      <td>1</td>\n",
              "      <td>0</td>\n",
              "      <td>0</td>\n",
              "      <td>0.00</td>\n",
              "      <td>0.0</td>\n",
              "      <td>0.013065</td>\n",
              "    </tr>\n",
              "    <tr>\n",
              "      <th>...</th>\n",
              "      <td>...</td>\n",
              "      <td>...</td>\n",
              "      <td>...</td>\n",
              "      <td>...</td>\n",
              "      <td>...</td>\n",
              "      <td>...</td>\n",
              "      <td>...</td>\n",
              "      <td>...</td>\n",
              "      <td>...</td>\n",
              "      <td>...</td>\n",
              "      <td>...</td>\n",
              "      <td>...</td>\n",
              "      <td>...</td>\n",
              "      <td>...</td>\n",
              "      <td>...</td>\n",
              "      <td>...</td>\n",
              "      <td>...</td>\n",
              "      <td>...</td>\n",
              "      <td>...</td>\n",
              "    </tr>\n",
              "    <tr>\n",
              "      <th>35736</th>\n",
              "      <td>15</td>\n",
              "      <td>1</td>\n",
              "      <td>19</td>\n",
              "      <td>6654598.0</td>\n",
              "      <td>101</td>\n",
              "      <td>178</td>\n",
              "      <td>32141</td>\n",
              "      <td>33939</td>\n",
              "      <td>0</td>\n",
              "      <td>1</td>\n",
              "      <td>0</td>\n",
              "      <td>1</td>\n",
              "      <td>0</td>\n",
              "      <td>0</td>\n",
              "      <td>0</td>\n",
              "      <td>0</td>\n",
              "      <td>0.00</td>\n",
              "      <td>0.0</td>\n",
              "      <td>0.252652</td>\n",
              "    </tr>\n",
              "    <tr>\n",
              "      <th>29419</th>\n",
              "      <td>38</td>\n",
              "      <td>0</td>\n",
              "      <td>23</td>\n",
              "      <td>10315211.0</td>\n",
              "      <td>184</td>\n",
              "      <td>304</td>\n",
              "      <td>83249</td>\n",
              "      <td>30460</td>\n",
              "      <td>0</td>\n",
              "      <td>1</td>\n",
              "      <td>0</td>\n",
              "      <td>0</td>\n",
              "      <td>1</td>\n",
              "      <td>0</td>\n",
              "      <td>0</td>\n",
              "      <td>0</td>\n",
              "      <td>0.00</td>\n",
              "      <td>0.0</td>\n",
              "      <td>0.252652</td>\n",
              "    </tr>\n",
              "    <tr>\n",
              "      <th>95255</th>\n",
              "      <td>15</td>\n",
              "      <td>0</td>\n",
              "      <td>22</td>\n",
              "      <td>1894435.0</td>\n",
              "      <td>61</td>\n",
              "      <td>83</td>\n",
              "      <td>10125</td>\n",
              "      <td>3760</td>\n",
              "      <td>1</td>\n",
              "      <td>0</td>\n",
              "      <td>0</td>\n",
              "      <td>0</td>\n",
              "      <td>0</td>\n",
              "      <td>1</td>\n",
              "      <td>0</td>\n",
              "      <td>0</td>\n",
              "      <td>0.00</td>\n",
              "      <td>0.0</td>\n",
              "      <td>0.252652</td>\n",
              "    </tr>\n",
              "    <tr>\n",
              "      <th>40257</th>\n",
              "      <td>56</td>\n",
              "      <td>0</td>\n",
              "      <td>18</td>\n",
              "      <td>2112065.0</td>\n",
              "      <td>21</td>\n",
              "      <td>46</td>\n",
              "      <td>65237</td>\n",
              "      <td>17302</td>\n",
              "      <td>1</td>\n",
              "      <td>0</td>\n",
              "      <td>0</td>\n",
              "      <td>0</td>\n",
              "      <td>0</td>\n",
              "      <td>1</td>\n",
              "      <td>0</td>\n",
              "      <td>0</td>\n",
              "      <td>0.00</td>\n",
              "      <td>0.0</td>\n",
              "      <td>0.252652</td>\n",
              "    </tr>\n",
              "    <tr>\n",
              "      <th>17551</th>\n",
              "      <td>21</td>\n",
              "      <td>0</td>\n",
              "      <td>54</td>\n",
              "      <td>3963515.0</td>\n",
              "      <td>30</td>\n",
              "      <td>76</td>\n",
              "      <td>46354</td>\n",
              "      <td>35469</td>\n",
              "      <td>0</td>\n",
              "      <td>0</td>\n",
              "      <td>1</td>\n",
              "      <td>0</td>\n",
              "      <td>0</td>\n",
              "      <td>1</td>\n",
              "      <td>0</td>\n",
              "      <td>0</td>\n",
              "      <td>0.00</td>\n",
              "      <td>0.0</td>\n",
              "      <td>0.000095</td>\n",
              "    </tr>\n",
              "  </tbody>\n",
              "</table>\n",
              "<p>27676 rows × 19 columns</p>\n",
              "</div>"
            ],
            "text/plain": [
              "        purchase_value  sex  age  ...  n_dev_shared  n_ip_shared  n_country_shared\n",
              "135822              77    0   34  ...          0.25          0.0          0.052496\n",
              "45145               57    0   35  ...          0.00          0.0          0.012663\n",
              "10039               26    1   30  ...          0.00          0.0          0.017672\n",
              "40401               39    1   52  ...          0.00          0.0          0.095589\n",
              "97921               19    0   25  ...          0.00          0.0          0.013065\n",
              "...                ...  ...  ...  ...           ...          ...               ...\n",
              "35736               15    1   19  ...          0.00          0.0          0.252652\n",
              "29419               38    0   23  ...          0.00          0.0          0.252652\n",
              "95255               15    0   22  ...          0.00          0.0          0.252652\n",
              "40257               56    0   18  ...          0.00          0.0          0.252652\n",
              "17551               21    0   54  ...          0.00          0.0          0.000095\n",
              "\n",
              "[27676 rows x 19 columns]"
            ]
          },
          "metadata": {
            "tags": []
          },
          "execution_count": 45
        }
      ]
    },
    {
      "cell_type": "code",
      "metadata": {
        "id": "cUYX7D7tkCww",
        "colab_type": "code",
        "colab": {
          "base_uri": "https://localhost:8080/",
          "height": 142
        },
        "outputId": "2610d3e5-ea2e-4cbb-8f20-3211b0a86418"
      },
      "source": [
        "fraud_data.groupby('class')[['interval_after_signup']].mean()\n",
        "#interval_after_signup on frauds are significantly lower compared to legits"
      ],
      "execution_count": 46,
      "outputs": [
        {
          "output_type": "execute_result",
          "data": {
            "text/html": [
              "<div>\n",
              "<style scoped>\n",
              "    .dataframe tbody tr th:only-of-type {\n",
              "        vertical-align: middle;\n",
              "    }\n",
              "\n",
              "    .dataframe tbody tr th {\n",
              "        vertical-align: top;\n",
              "    }\n",
              "\n",
              "    .dataframe thead th {\n",
              "        text-align: right;\n",
              "    }\n",
              "</style>\n",
              "<table border=\"1\" class=\"dataframe\">\n",
              "  <thead>\n",
              "    <tr style=\"text-align: right;\">\n",
              "      <th></th>\n",
              "      <th>interval_after_signup</th>\n",
              "    </tr>\n",
              "    <tr>\n",
              "      <th>class</th>\n",
              "      <th></th>\n",
              "    </tr>\n",
              "  </thead>\n",
              "  <tbody>\n",
              "    <tr>\n",
              "      <th>0</th>\n",
              "      <td>5.191179e+06</td>\n",
              "    </tr>\n",
              "    <tr>\n",
              "      <th>1</th>\n",
              "      <td>2.570226e+06</td>\n",
              "    </tr>\n",
              "  </tbody>\n",
              "</table>\n",
              "</div>"
            ],
            "text/plain": [
              "       interval_after_signup\n",
              "class                       \n",
              "0               5.191179e+06\n",
              "1               2.570226e+06"
            ]
          },
          "metadata": {
            "tags": []
          },
          "execution_count": 46
        }
      ]
    },
    {
      "cell_type": "code",
      "metadata": {
        "id": "CJTCW6SPjtNz",
        "colab_type": "code",
        "colab": {
          "base_uri": "https://localhost:8080/",
          "height": 142
        },
        "outputId": "e0acf0a3-a3b8-4898-e4eb-75189d3b8974"
      },
      "source": [
        "fraud_data.groupby('class')[['interval_after_signup']].median() #1\n",
        "# more than half of fraud happened 1s after signed up"
      ],
      "execution_count": 47,
      "outputs": [
        {
          "output_type": "execute_result",
          "data": {
            "text/html": [
              "<div>\n",
              "<style scoped>\n",
              "    .dataframe tbody tr th:only-of-type {\n",
              "        vertical-align: middle;\n",
              "    }\n",
              "\n",
              "    .dataframe tbody tr th {\n",
              "        vertical-align: top;\n",
              "    }\n",
              "\n",
              "    .dataframe thead th {\n",
              "        text-align: right;\n",
              "    }\n",
              "</style>\n",
              "<table border=\"1\" class=\"dataframe\">\n",
              "  <thead>\n",
              "    <tr style=\"text-align: right;\">\n",
              "      <th></th>\n",
              "      <th>interval_after_signup</th>\n",
              "    </tr>\n",
              "    <tr>\n",
              "      <th>class</th>\n",
              "      <th></th>\n",
              "    </tr>\n",
              "  </thead>\n",
              "  <tbody>\n",
              "    <tr>\n",
              "      <th>0</th>\n",
              "      <td>5194911.0</td>\n",
              "    </tr>\n",
              "    <tr>\n",
              "      <th>1</th>\n",
              "      <td>1.0</td>\n",
              "    </tr>\n",
              "  </tbody>\n",
              "</table>\n",
              "</div>"
            ],
            "text/plain": [
              "       interval_after_signup\n",
              "class                       \n",
              "0                  5194911.0\n",
              "1                        1.0"
            ]
          },
          "metadata": {
            "tags": []
          },
          "execution_count": 47
        }
      ]
    },
    {
      "cell_type": "code",
      "metadata": {
        "id": "HKwLcEP3krRk",
        "colab_type": "code",
        "colab": {
          "base_uri": "https://localhost:8080/",
          "height": 419
        },
        "outputId": "aaca1b2e-dd51-40c7-aad1-5d1a757308b7"
      },
      "source": [
        "fraud_data[fraud_data['class'] == 1].head(100)"
      ],
      "execution_count": 48,
      "outputs": [
        {
          "output_type": "execute_result",
          "data": {
            "text/html": [
              "<div>\n",
              "<style scoped>\n",
              "    .dataframe tbody tr th:only-of-type {\n",
              "        vertical-align: middle;\n",
              "    }\n",
              "\n",
              "    .dataframe tbody tr th {\n",
              "        vertical-align: top;\n",
              "    }\n",
              "\n",
              "    .dataframe thead th {\n",
              "        text-align: right;\n",
              "    }\n",
              "</style>\n",
              "<table border=\"1\" class=\"dataframe\">\n",
              "  <thead>\n",
              "    <tr style=\"text-align: right;\">\n",
              "      <th></th>\n",
              "      <th>purchase_value</th>\n",
              "      <th>device_id</th>\n",
              "      <th>source</th>\n",
              "      <th>browser</th>\n",
              "      <th>sex</th>\n",
              "      <th>age</th>\n",
              "      <th>ip_address</th>\n",
              "      <th>class</th>\n",
              "      <th>country</th>\n",
              "      <th>interval_after_signup</th>\n",
              "      <th>signup_day_of_year</th>\n",
              "      <th>purchase_day_of_year</th>\n",
              "      <th>signup_seconds_of_day</th>\n",
              "      <th>puchase_seconds_of_day</th>\n",
              "    </tr>\n",
              "  </thead>\n",
              "  <tbody>\n",
              "    <tr>\n",
              "      <th>136961</th>\n",
              "      <td>24</td>\n",
              "      <td>VLHGCDPFCICDA</td>\n",
              "      <td>SEO</td>\n",
              "      <td>Chrome</td>\n",
              "      <td>F</td>\n",
              "      <td>33</td>\n",
              "      <td>3.432126e+09</td>\n",
              "      <td>1</td>\n",
              "      <td>United States</td>\n",
              "      <td>3327952.0</td>\n",
              "      <td>218</td>\n",
              "      <td>257</td>\n",
              "      <td>80113</td>\n",
              "      <td>38465</td>\n",
              "    </tr>\n",
              "    <tr>\n",
              "      <th>136962</th>\n",
              "      <td>14</td>\n",
              "      <td>YLUQSRNYYIPXU</td>\n",
              "      <td>Ads</td>\n",
              "      <td>Chrome</td>\n",
              "      <td>M</td>\n",
              "      <td>40</td>\n",
              "      <td>3.905319e+09</td>\n",
              "      <td>1</td>\n",
              "      <td>NA</td>\n",
              "      <td>1.0</td>\n",
              "      <td>12</td>\n",
              "      <td>12</td>\n",
              "      <td>4207</td>\n",
              "      <td>4208</td>\n",
              "    </tr>\n",
              "    <tr>\n",
              "      <th>136963</th>\n",
              "      <td>63</td>\n",
              "      <td>ABUBCQDATQMQH</td>\n",
              "      <td>Ads</td>\n",
              "      <td>FireFox</td>\n",
              "      <td>F</td>\n",
              "      <td>46</td>\n",
              "      <td>5.505670e+08</td>\n",
              "      <td>1</td>\n",
              "      <td>United States</td>\n",
              "      <td>7640070.0</td>\n",
              "      <td>49</td>\n",
              "      <td>137</td>\n",
              "      <td>40723</td>\n",
              "      <td>77593</td>\n",
              "    </tr>\n",
              "    <tr>\n",
              "      <th>136964</th>\n",
              "      <td>34</td>\n",
              "      <td>QHEODGCAVJKIQ</td>\n",
              "      <td>SEO</td>\n",
              "      <td>Chrome</td>\n",
              "      <td>M</td>\n",
              "      <td>37</td>\n",
              "      <td>9.408096e+08</td>\n",
              "      <td>1</td>\n",
              "      <td>United States</td>\n",
              "      <td>1.0</td>\n",
              "      <td>12</td>\n",
              "      <td>12</td>\n",
              "      <td>77710</td>\n",
              "      <td>77711</td>\n",
              "    </tr>\n",
              "    <tr>\n",
              "      <th>136965</th>\n",
              "      <td>76</td>\n",
              "      <td>DAKVYHKIEYRBH</td>\n",
              "      <td>SEO</td>\n",
              "      <td>Chrome</td>\n",
              "      <td>F</td>\n",
              "      <td>48</td>\n",
              "      <td>6.361041e+08</td>\n",
              "      <td>1</td>\n",
              "      <td>Hungary</td>\n",
              "      <td>1.0</td>\n",
              "      <td>10</td>\n",
              "      <td>10</td>\n",
              "      <td>48421</td>\n",
              "      <td>48422</td>\n",
              "    </tr>\n",
              "    <tr>\n",
              "      <th>...</th>\n",
              "      <td>...</td>\n",
              "      <td>...</td>\n",
              "      <td>...</td>\n",
              "      <td>...</td>\n",
              "      <td>...</td>\n",
              "      <td>...</td>\n",
              "      <td>...</td>\n",
              "      <td>...</td>\n",
              "      <td>...</td>\n",
              "      <td>...</td>\n",
              "      <td>...</td>\n",
              "      <td>...</td>\n",
              "      <td>...</td>\n",
              "      <td>...</td>\n",
              "    </tr>\n",
              "    <tr>\n",
              "      <th>137056</th>\n",
              "      <td>21</td>\n",
              "      <td>AIGPGDVRDKOKT</td>\n",
              "      <td>SEO</td>\n",
              "      <td>FireFox</td>\n",
              "      <td>F</td>\n",
              "      <td>45</td>\n",
              "      <td>3.058136e+09</td>\n",
              "      <td>1</td>\n",
              "      <td>India</td>\n",
              "      <td>1.0</td>\n",
              "      <td>2</td>\n",
              "      <td>2</td>\n",
              "      <td>69762</td>\n",
              "      <td>69763</td>\n",
              "    </tr>\n",
              "    <tr>\n",
              "      <th>137057</th>\n",
              "      <td>52</td>\n",
              "      <td>PQGKGQACIARBV</td>\n",
              "      <td>Ads</td>\n",
              "      <td>Chrome</td>\n",
              "      <td>F</td>\n",
              "      <td>36</td>\n",
              "      <td>7.203338e+08</td>\n",
              "      <td>1</td>\n",
              "      <td>China</td>\n",
              "      <td>1.0</td>\n",
              "      <td>9</td>\n",
              "      <td>9</td>\n",
              "      <td>77018</td>\n",
              "      <td>77019</td>\n",
              "    </tr>\n",
              "    <tr>\n",
              "      <th>137058</th>\n",
              "      <td>54</td>\n",
              "      <td>XHZBVWFWHSGTQ</td>\n",
              "      <td>SEO</td>\n",
              "      <td>FireFox</td>\n",
              "      <td>M</td>\n",
              "      <td>50</td>\n",
              "      <td>2.249217e+09</td>\n",
              "      <td>1</td>\n",
              "      <td>United States</td>\n",
              "      <td>1.0</td>\n",
              "      <td>1</td>\n",
              "      <td>1</td>\n",
              "      <td>32483</td>\n",
              "      <td>32484</td>\n",
              "    </tr>\n",
              "    <tr>\n",
              "      <th>137059</th>\n",
              "      <td>10</td>\n",
              "      <td>WETYPHOQVLWMK</td>\n",
              "      <td>Ads</td>\n",
              "      <td>FireFox</td>\n",
              "      <td>M</td>\n",
              "      <td>36</td>\n",
              "      <td>2.293333e+09</td>\n",
              "      <td>1</td>\n",
              "      <td>United States</td>\n",
              "      <td>1.0</td>\n",
              "      <td>7</td>\n",
              "      <td>7</td>\n",
              "      <td>63914</td>\n",
              "      <td>63915</td>\n",
              "    </tr>\n",
              "    <tr>\n",
              "      <th>137060</th>\n",
              "      <td>69</td>\n",
              "      <td>UWEPEOUQYEPZF</td>\n",
              "      <td>Direct</td>\n",
              "      <td>Chrome</td>\n",
              "      <td>M</td>\n",
              "      <td>36</td>\n",
              "      <td>2.534293e+09</td>\n",
              "      <td>1</td>\n",
              "      <td>Italy</td>\n",
              "      <td>1.0</td>\n",
              "      <td>8</td>\n",
              "      <td>8</td>\n",
              "      <td>41850</td>\n",
              "      <td>41851</td>\n",
              "    </tr>\n",
              "  </tbody>\n",
              "</table>\n",
              "<p>100 rows × 14 columns</p>\n",
              "</div>"
            ],
            "text/plain": [
              "        purchase_value  ... puchase_seconds_of_day\n",
              "136961              24  ...                  38465\n",
              "136962              14  ...                   4208\n",
              "136963              63  ...                  77593\n",
              "136964              34  ...                  77711\n",
              "136965              76  ...                  48422\n",
              "...                ...  ...                    ...\n",
              "137056              21  ...                  69763\n",
              "137057              52  ...                  77019\n",
              "137058              54  ...                  32484\n",
              "137059              10  ...                  63915\n",
              "137060              69  ...                  41851\n",
              "\n",
              "[100 rows x 14 columns]"
            ]
          },
          "metadata": {
            "tags": []
          },
          "execution_count": 48
        }
      ]
    },
    {
      "cell_type": "markdown",
      "metadata": {
        "id": "aT6cYzbQkw31",
        "colab_type": "text"
      },
      "source": [
        "### ***How to use predictions***"
      ]
    },
    {
      "cell_type": "code",
      "metadata": {
        "id": "W__5HI59l8j1",
        "colab_type": "code",
        "colab": {
          "base_uri": "https://localhost:8080/",
          "height": 136
        },
        "outputId": "b88266bc-a8db-4e57-db76-6651555480d3"
      },
      "source": [
        "probsBest_recall"
      ],
      "execution_count": 49,
      "outputs": [
        {
          "output_type": "execute_result",
          "data": {
            "text/plain": [
              "array([[0.4268741 , 0.5731259 ],\n",
              "       [0.69920979, 0.30079021],\n",
              "       [0.73063236, 0.26936764],\n",
              "       ...,\n",
              "       [0.73415242, 0.26584758],\n",
              "       [0.7168678 , 0.2831322 ],\n",
              "       [0.73652927, 0.26347073]])"
            ]
          },
          "metadata": {
            "tags": []
          },
          "execution_count": 49
        }
      ]
    },
    {
      "cell_type": "code",
      "metadata": {
        "id": "x8NmiweClp4G",
        "colab_type": "code",
        "colab": {
          "base_uri": "https://localhost:8080/",
          "height": 51
        },
        "outputId": "572c377a-18e7-4348-d614-b72df58d8851"
      },
      "source": [
        "probsBest_recall[:,1]"
      ],
      "execution_count": 50,
      "outputs": [
        {
          "output_type": "execute_result",
          "data": {
            "text/plain": [
              "array([0.5731259 , 0.30079021, 0.26936764, ..., 0.26584758, 0.2831322 ,\n",
              "       0.26347073])"
            ]
          },
          "metadata": {
            "tags": []
          },
          "execution_count": 50
        }
      ]
    },
    {
      "cell_type": "code",
      "metadata": {
        "id": "4rSLc2PakvDO",
        "colab_type": "code",
        "colab": {
          "base_uri": "https://localhost:8080/",
          "height": 153
        },
        "outputId": "e26c5d77-a599-48df-a665-191f24a5b075"
      },
      "source": [
        "# use Recall Score from the best Random Forest Model\n",
        "# probsBest_recall[:,1] 选择第二列，lable是 Fraud 的概率\n",
        "\n",
        "t = (10 * probsBest_recall[:,1]).astype(int)\n",
        "unique, counts = np.unique(t, return_counts = True)\n",
        "\n",
        "print(np.asarray((unique, counts)).T)\n",
        "\n",
        "#recommended:\n",
        "#green: 1 - 3 pass\n",
        "#grey: 4-7 need manual investigation\n",
        "#red: 8,9 decline"
      ],
      "execution_count": 51,
      "outputs": [
        {
          "output_type": "stream",
          "text": [
            "[[    2 19468]\n",
            " [    3  7731]\n",
            " [    4    92]\n",
            " [    5   192]\n",
            " [    6    32]\n",
            " [    7     2]\n",
            " [    8    38]\n",
            " [    9   121]]\n"
          ],
          "name": "stdout"
        }
      ]
    },
    {
      "cell_type": "code",
      "metadata": {
        "id": "YU9IeIiP-Hd-",
        "colab_type": "code",
        "colab": {}
      },
      "source": [
        ""
      ],
      "execution_count": 0,
      "outputs": []
    },
    {
      "cell_type": "code",
      "metadata": {
        "id": "87UVazah-HZp",
        "colab_type": "code",
        "colab": {}
      },
      "source": [
        ""
      ],
      "execution_count": 0,
      "outputs": []
    },
    {
      "cell_type": "code",
      "metadata": {
        "id": "VjOdUbcX-HVX",
        "colab_type": "code",
        "colab": {}
      },
      "source": [
        ""
      ],
      "execution_count": 0,
      "outputs": []
    },
    {
      "cell_type": "code",
      "metadata": {
        "id": "H3f3nPnR-HRJ",
        "colab_type": "code",
        "colab": {}
      },
      "source": [
        ""
      ],
      "execution_count": 0,
      "outputs": []
    },
    {
      "cell_type": "code",
      "metadata": {
        "id": "P_unrxKf-HMY",
        "colab_type": "code",
        "colab": {}
      },
      "source": [
        ""
      ],
      "execution_count": 0,
      "outputs": []
    },
    {
      "cell_type": "code",
      "metadata": {
        "id": "WnJQiEfD-HJn",
        "colab_type": "code",
        "colab": {}
      },
      "source": [
        ""
      ],
      "execution_count": 0,
      "outputs": []
    },
    {
      "cell_type": "markdown",
      "metadata": {
        "id": "JM1lz7Sfv20B",
        "colab_type": "text"
      },
      "source": [
        "### **Gradient Boosting**"
      ]
    },
    {
      "cell_type": "code",
      "metadata": {
        "id": "zkLsIW7-v2i2",
        "colab_type": "code",
        "colab": {}
      },
      "source": [
        "from sklearn import ensemble\n",
        "\n",
        "\n",
        "params = {'n_estimators': 500, 'max_depth': 3, 'subsample': 0.5,\n",
        "          'learning_rate': 0.01, 'min_samples_leaf': 1, 'random_state': 3}\n",
        "\n",
        "gb_clf = ensemble.GradientBoostingClassifier(**params)\n",
        "gb_clf.fit(X_train_sm, y_train_sm)\n",
        "\n",
        "\n",
        "# make predictions\n",
        "gb_y_pred = gb_clf.predict(X_test)"
      ],
      "execution_count": 0,
      "outputs": []
    },
    {
      "cell_type": "code",
      "metadata": {
        "id": "8mYfgK8Ew8uY",
        "colab_type": "code",
        "colab": {
          "base_uri": "https://localhost:8080/",
          "height": 119
        },
        "outputId": "a49760f0-9558-47ea-cbaf-0a4d998a5933"
      },
      "source": [
        "\n",
        "print (\"confusion_matrix_sm is: \")\n",
        "cm_sm = confusion_matrix(y_test, gb_y_pred)\n",
        "cmDF = pd.DataFrame(cm_sm, columns=['pred_0', 'pred_1'], index=['true_0', 'true_1'])\n",
        "print(cmDF)\n",
        "print('recall_sm =',float(cm_sm[1,1])/(cm_sm[1,0]+cm_sm[1,1]))\n",
        "print('precision_sm =', float(cm_sm[1,1])/(cm_sm[1,1] + cm_sm[0,1]))"
      ],
      "execution_count": 53,
      "outputs": [
        {
          "output_type": "stream",
          "text": [
            "confusion_matrix_sm is: \n",
            "        pred_0  pred_1\n",
            "true_0   27380       7\n",
            "true_1     198      91\n",
            "recall_sm = 0.314878892733564\n",
            "precision_sm = 0.9285714285714286\n"
          ],
          "name": "stdout"
        }
      ]
    },
    {
      "cell_type": "markdown",
      "metadata": {
        "id": "jQa_cka4MOZU",
        "colab_type": "text"
      },
      "source": [
        "Optimizing recall score on Gradient Boost"
      ]
    },
    {
      "cell_type": "code",
      "metadata": {
        "id": "cE_6am-jL4uv",
        "colab_type": "code",
        "colab": {}
      },
      "source": [
        "param = {\n",
        "    'max_depth':[None, 5, 15],\n",
        "    'n_estimators':[10,150],\n",
        "    'subsample':[0.7,0.9],\n",
        "    'max_features':[None,3,6]\n",
        "    }\n",
        "\n",
        "gradientboost = ensemble.GradientBoostingClassifier(random_state=42)"
      ],
      "execution_count": 0,
      "outputs": []
    },
    {
      "cell_type": "code",
      "metadata": {
        "id": "Jgawj1fYL4tO",
        "colab_type": "code",
        "colab": {
          "base_uri": "https://localhost:8080/",
          "height": 204
        },
        "outputId": "c473f07a-7689-40fe-d65e-cbd95d44b512"
      },
      "source": [
        "grid_search_gb_recall = grid_search_wrapper(gradientboost,param, refit_score='recall_score')"
      ],
      "execution_count": 67,
      "outputs": [
        {
          "output_type": "stream",
          "text": [
            "Best parameters for recall_score\n",
            "{'max_depth': None, 'max_features': None, 'n_estimators': 10, 'subsample': 0.7}\n",
            "\n",
            "Confusion matrix of Random Forest optimized for recall_score on the test data:\n",
            "        pred_0  pred_1\n",
            "true_0   27125     262\n",
            "true_1     128     161\n",
            "\troc_auc_score is: : 0.7883468440245751\n",
            "\tf1_score is: : 0.45224719101123595\n",
            "recall = 0.5570934256055363\n",
            "precision = 0.3806146572104019\n"
          ],
          "name": "stdout"
        }
      ]
    },
    {
      "cell_type": "code",
      "metadata": {
        "id": "lnVQUzjSL4pm",
        "colab_type": "code",
        "colab": {
          "base_uri": "https://localhost:8080/",
          "height": 187
        },
        "outputId": "f68f5451-71a0-433a-fbda-9671ed210331"
      },
      "source": [
        "best_gb_model_recall = grid_search_gb_recall.best_estimator_\n",
        "best_gb_model_recall"
      ],
      "execution_count": 68,
      "outputs": [
        {
          "output_type": "execute_result",
          "data": {
            "text/plain": [
              "GradientBoostingClassifier(ccp_alpha=0.0, criterion='friedman_mse', init=None,\n",
              "                           learning_rate=0.1, loss='deviance', max_depth=None,\n",
              "                           max_features=None, max_leaf_nodes=None,\n",
              "                           min_impurity_decrease=0.0, min_impurity_split=None,\n",
              "                           min_samples_leaf=1, min_samples_split=2,\n",
              "                           min_weight_fraction_leaf=0.0, n_estimators=10,\n",
              "                           n_iter_no_change=None, presort='deprecated',\n",
              "                           random_state=42, subsample=0.7, tol=0.0001,\n",
              "                           validation_fraction=0.1, verbose=0,\n",
              "                           warm_start=False)"
            ]
          },
          "metadata": {
            "tags": []
          },
          "execution_count": 68
        }
      ]
    },
    {
      "cell_type": "code",
      "metadata": {
        "id": "uHq1U2__L4nr",
        "colab_type": "code",
        "colab": {}
      },
      "source": [
        "\n"
      ],
      "execution_count": 0,
      "outputs": []
    },
    {
      "cell_type": "code",
      "metadata": {
        "id": "Z8mm7W8hL4kT",
        "colab_type": "code",
        "colab": {}
      },
      "source": [
        ""
      ],
      "execution_count": 0,
      "outputs": []
    },
    {
      "cell_type": "code",
      "metadata": {
        "id": "EEwitPUJL4ik",
        "colab_type": "code",
        "colab": {}
      },
      "source": [
        ""
      ],
      "execution_count": 0,
      "outputs": []
    },
    {
      "cell_type": "code",
      "metadata": {
        "id": "UvonKMuKL4fE",
        "colab_type": "code",
        "colab": {}
      },
      "source": [
        ""
      ],
      "execution_count": 0,
      "outputs": []
    },
    {
      "cell_type": "code",
      "metadata": {
        "id": "Bg2-ss5PL4cI",
        "colab_type": "code",
        "colab": {}
      },
      "source": [
        ""
      ],
      "execution_count": 0,
      "outputs": []
    },
    {
      "cell_type": "markdown",
      "metadata": {
        "id": "62UDZb8esX2u",
        "colab_type": "text"
      },
      "source": [
        "### **XGBoost**\n",
        "\n",
        "\n",
        "Not using SMOTEd data set"
      ]
    },
    {
      "cell_type": "code",
      "metadata": {
        "id": "WHmVMXZZsXl3",
        "colab_type": "code",
        "colab": {}
      },
      "source": [
        "import xgboost \n",
        "from xgboost import XGBClassifier\n",
        "from sklearn.metrics import classification_report\n",
        "from sklearn.model_selection import KFold\n",
        "from sklearn.model_selection import cross_val_score\n",
        "from sklearn.metrics import roc_auc_score\n",
        "from sklearn.metrics import classification_report\n",
        "from sklearn.metrics import confusion_matrix\n",
        "from xgboost import XGBClassifier"
      ],
      "execution_count": 0,
      "outputs": []
    },
    {
      "cell_type": "code",
      "metadata": {
        "id": "f4t4SOcO5Gqw",
        "colab_type": "code",
        "colab": {
          "base_uri": "https://localhost:8080/",
          "height": 88
        },
        "outputId": "5de532a7-eb2e-4eac-8ce3-2d383dd450a9"
      },
      "source": [
        "kfold = KFold(n_splits=10, random_state=42)\n",
        "xgb_clf = XGBClassifier(objective='reg:logistic')\n",
        "cv_results = cross_val_score(xgb_clf, X_train, y_train, cv=kfold, scoring = 'recall')\n",
        "print('XGB ROCAUC on validation data: {0:.5f} {1:.5f}'.format(cv_results.mean(), cv_results.std()))\n"
      ],
      "execution_count": 55,
      "outputs": [
        {
          "output_type": "stream",
          "text": [
            "/usr/local/lib/python3.6/dist-packages/sklearn/model_selection/_split.py:296: FutureWarning: Setting a random_state has no effect since shuffle is False. This will raise an error in 0.24. You should leave random_state to its default (None), or set shuffle=True.\n",
            "  FutureWarning\n"
          ],
          "name": "stderr"
        },
        {
          "output_type": "stream",
          "text": [
            "XGB ROCAUC on validation data: 0.51085 0.03937\n"
          ],
          "name": "stdout"
        }
      ]
    },
    {
      "cell_type": "code",
      "metadata": {
        "id": "UqVI7jmT9pk9",
        "colab_type": "code",
        "colab": {
          "base_uri": "https://localhost:8080/",
          "height": 136
        },
        "outputId": "ee49c1f7-37f2-4abb-cc7b-e52acd24acc6"
      },
      "source": [
        "xgb_clf.fit(X_train, y_train, eval_metric='auc', verbose=False)\n"
      ],
      "execution_count": 56,
      "outputs": [
        {
          "output_type": "execute_result",
          "data": {
            "text/plain": [
              "XGBClassifier(base_score=0.5, booster='gbtree', colsample_bylevel=1,\n",
              "              colsample_bynode=1, colsample_bytree=1, gamma=0,\n",
              "              learning_rate=0.1, max_delta_step=0, max_depth=3,\n",
              "              min_child_weight=1, missing=None, n_estimators=100, n_jobs=1,\n",
              "              nthread=None, objective='reg:logistic', random_state=0,\n",
              "              reg_alpha=0, reg_lambda=1, scale_pos_weight=1, seed=None,\n",
              "              silent=None, subsample=1, verbosity=1)"
            ]
          },
          "metadata": {
            "tags": []
          },
          "execution_count": 56
        }
      ]
    },
    {
      "cell_type": "code",
      "metadata": {
        "id": "666AS2HzJfWT",
        "colab_type": "code",
        "colab": {
          "base_uri": "https://localhost:8080/",
          "height": 68
        },
        "outputId": "1f88b429-3b53-4ec8-b656-f2b721d927fa"
      },
      "source": [
        "# make prediction on test set\n",
        "xgb_y_pred = xgb_clf.predict(X_test)\n",
        "\n",
        "# generate probability\n",
        "xgb_probs = xgb_clf.predict_proba(X_test)\n",
        "\n",
        "# generate evaluation metrics\n",
        "print(\"%s: %r\" % (\"accuracy_score is: \", accuracy_score(y_test, xgb_y_pred)))\n",
        "print(\"%s: %r\" % (\"roc_auc_score is: \", roc_auc_score(y_test, xgb_probs[:, 1])))\n",
        "print(\"%s: %r\" % (\"f1_score is: \", f1_score(y_test, xgb_y_pred)))#string to int"
      ],
      "execution_count": 57,
      "outputs": [
        {
          "output_type": "stream",
          "text": [
            "accuracy_score is: : 0.9953750541985836\n",
            "roc_auc_score is: : 0.7922898154770727\n",
            "f1_score is: : 0.7155555555555556\n"
          ],
          "name": "stdout"
        }
      ]
    },
    {
      "cell_type": "code",
      "metadata": {
        "id": "_Sul-_GgKstx",
        "colab_type": "code",
        "colab": {
          "base_uri": "https://localhost:8080/",
          "height": 119
        },
        "outputId": "c1cfe576-c2b4-456d-fbb7-c97e288b96a7"
      },
      "source": [
        "\n",
        "print (\"confusion_matrix is: \")\n",
        "cm_sm = confusion_matrix(y_test, xgb_y_pred)\n",
        "cmDF = pd.DataFrame(cm_sm, columns=['pred_0', 'pred_1'], index=['true_0', 'true_1'])\n",
        "print(cmDF)\n",
        "print('recall =',float(cm_sm[1,1])/(cm_sm[1,0]+cm_sm[1,1]))\n",
        "print('precision =', float(cm_sm[1,1])/(cm_sm[1,1] + cm_sm[0,1]))"
      ],
      "execution_count": 58,
      "outputs": [
        {
          "output_type": "stream",
          "text": [
            "confusion_matrix is: \n",
            "        pred_0  pred_1\n",
            "true_0   27387       0\n",
            "true_1     128     161\n",
            "recall = 0.5570934256055363\n",
            "precision = 1.0\n"
          ],
          "name": "stdout"
        }
      ]
    },
    {
      "cell_type": "code",
      "metadata": {
        "id": "nnLnDpuuLLgv",
        "colab_type": "code",
        "colab": {
          "base_uri": "https://localhost:8080/",
          "height": 136
        },
        "outputId": "d38a4e7c-6204-483f-eaff-6c6e5f80880c"
      },
      "source": [
        "xgb_probs"
      ],
      "execution_count": 59,
      "outputs": [
        {
          "output_type": "execute_result",
          "data": {
            "text/plain": [
              "array([[0.97459173, 0.02540827],\n",
              "       [0.99550295, 0.00449705],\n",
              "       [0.9964283 , 0.00357167],\n",
              "       ...,\n",
              "       [0.99653244, 0.00346757],\n",
              "       [0.99656266, 0.00343736],\n",
              "       [0.9958955 , 0.0041045 ]], dtype=float32)"
            ]
          },
          "metadata": {
            "tags": []
          },
          "execution_count": 59
        }
      ]
    },
    {
      "cell_type": "code",
      "metadata": {
        "id": "qNKE3uHYLPKb",
        "colab_type": "code",
        "colab": {
          "base_uri": "https://localhost:8080/",
          "height": 51
        },
        "outputId": "50a17705-34c2-4ef3-b48e-aba804f70c8d"
      },
      "source": [
        "xgb_probs[:,1]"
      ],
      "execution_count": 60,
      "outputs": [
        {
          "output_type": "execute_result",
          "data": {
            "text/plain": [
              "array([0.02540827, 0.00449705, 0.00357167, ..., 0.00346757, 0.00343736,\n",
              "       0.0041045 ], dtype=float32)"
            ]
          },
          "metadata": {
            "tags": []
          },
          "execution_count": 60
        }
      ]
    },
    {
      "cell_type": "code",
      "metadata": {
        "id": "nNzFv-yOLWCE",
        "colab_type": "code",
        "colab": {
          "base_uri": "https://localhost:8080/",
          "height": 51
        },
        "outputId": "2d207e5b-d93c-4299-8eac-8c4be2febf39"
      },
      "source": [
        "# use Recall Score from the XGBoost Model\n",
        "# probsBest_recall[:,1] 选择第二列，lable是 Fraud 的概率\n",
        "\n",
        "t = (10 * xgb_probs[:,1]).astype(int)\n",
        "unique, counts = np.unique(t, return_counts = True)\n",
        "\n",
        "print(np.asarray((unique, counts)).T)\n",
        "\n",
        "#recommended:\n",
        "#green: 1 - 3 pass\n",
        "#grey: 4-7 need manual investigation\n",
        "#red: 8,9 decline"
      ],
      "execution_count": 61,
      "outputs": [
        {
          "output_type": "stream",
          "text": [
            "[[    0 27515]\n",
            " [    9   161]]\n"
          ],
          "name": "stdout"
        }
      ]
    }
  ]
}